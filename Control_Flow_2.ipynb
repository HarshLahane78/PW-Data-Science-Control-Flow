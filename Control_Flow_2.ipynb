{
  "nbformat": 4,
  "nbformat_minor": 0,
  "metadata": {
    "colab": {
      "provenance": [],
      "toc_visible": true
    },
    "kernelspec": {
      "name": "python3",
      "display_name": "Python 3"
    },
    "language_info": {
      "name": "python"
    }
  },
  "cells": [
    {
      "cell_type": "markdown",
      "source": [
        "Control Flow Level Programs\n"
      ],
      "metadata": {
        "id": "bsB-6FasYux9"
      }
    },
    {
      "cell_type": "code",
      "source": [
        "num = int(input(\"enter a number : \"))\n",
        "\n",
        "if num < 0 :\n",
        "  print(\"the number is negative \")\n",
        "\n",
        "elif num == 0:\n",
        "  print(\"the number is zero\")\n",
        "\n",
        "else:\n",
        "  print(\"the number is positive\")"
      ],
      "metadata": {
        "id": "PqPLgZU5Y3D1",
        "colab": {
          "base_uri": "https://localhost:8080/"
        },
        "outputId": "ccc9096b-dd56-4160-db56-c048850c2cb1"
      },
      "execution_count": null,
      "outputs": [
        {
          "output_type": "stream",
          "name": "stdout",
          "text": [
            "enter a number : -5\n",
            "the number is negative \n"
          ]
        }
      ]
    },
    {
      "cell_type": "code",
      "source": [
        "age = int(input(\"enter the age : \"))\n",
        "\n",
        "if age >= 18 :\n",
        "  print(\" you are eligible to vote\")\n",
        "\n",
        "else:\n",
        "  print(\"you are not eligible to vote\")"
      ],
      "metadata": {
        "colab": {
          "base_uri": "https://localhost:8080/"
        },
        "id": "An2Fuu8PZkkg",
        "outputId": "08017aa6-66c2-40d9-a325-a7e9376817d2"
      },
      "execution_count": null,
      "outputs": [
        {
          "output_type": "stream",
          "name": "stdout",
          "text": [
            "enter the age : 25\n",
            " you are eligible to vote\n"
          ]
        }
      ]
    },
    {
      "cell_type": "code",
      "source": [
        "num1 = int(input(\"enter the first number : \"))\n",
        "num2 = int(input(\"enter the second number : \"))\n",
        "\n",
        "if num1 > num2 :\n",
        "  print(\"the maximum number : \",num1)\n",
        "\n",
        "else:\n",
        "  print(\"the maximum number : \",num2)"
      ],
      "metadata": {
        "colab": {
          "base_uri": "https://localhost:8080/"
        },
        "id": "bBRfyDkNZqOK",
        "outputId": "56d7fe93-6ff8-4962-afa3-64637afcf12a"
      },
      "execution_count": null,
      "outputs": [
        {
          "output_type": "stream",
          "name": "stdout",
          "text": [
            "enter the first number : 12\n",
            "enter the second number : 3\n",
            "the maximum number :  12\n"
          ]
        }
      ]
    },
    {
      "cell_type": "code",
      "source": [
        "score = int(input(\"enter the score : \"))\n",
        "\n",
        "if  90 <= score <= 100 :\n",
        "  print(\"Grade : A+\")\n",
        "\n",
        "elif 80 <= score <= 90 :\n",
        "  print(\"Grade : A\")\n",
        "\n",
        "elif 70 <= score <= 80 :\n",
        "  print(\"Grade : B\")\n",
        "\n",
        "elif 60 <= score <= 70 :\n",
        "  print(\"Grade : C\")\n",
        "\n",
        "elif score > 100 :\n",
        "  print(\"Invalid score\")\n",
        "\n",
        "else :\n",
        "  print(\"Grade : D\")"
      ],
      "metadata": {
        "colab": {
          "base_uri": "https://localhost:8080/"
        },
        "id": "KoQdGjPvZ77l",
        "outputId": "40cac1bd-fdd6-44d9-f148-e4e2366f5a18"
      },
      "execution_count": null,
      "outputs": [
        {
          "output_type": "stream",
          "name": "stdout",
          "text": [
            "enter the score : 78\n",
            "Grade : B\n"
          ]
        }
      ]
    },
    {
      "cell_type": "code",
      "source": [
        "def leap_y(year):\n",
        "\n",
        "  if (year % 4 == 0 and year % 100 != 0) or ( year % 400 == 0):\n",
        "    return True\n",
        "\n",
        "  else:\n",
        "    return False\n",
        "\n",
        "year = int(input(\"enter the year : \"))\n",
        "\n",
        "if leap_y(year):\n",
        "  print(f\"{year} is a leap year\")\n",
        "\n",
        "else:\n",
        "  print(f\"{year} is not a leap year\")"
      ],
      "metadata": {
        "colab": {
          "base_uri": "https://localhost:8080/"
        },
        "id": "lPTE46-YaHKh",
        "outputId": "f63e8360-8e90-4bf2-9735-312870801f90"
      },
      "execution_count": null,
      "outputs": [
        {
          "output_type": "stream",
          "name": "stdout",
          "text": [
            "enter the year : 2017\n",
            "2017 is not a leap year\n"
          ]
        }
      ]
    },
    {
      "cell_type": "code",
      "source": [
        "side1 = int(input(\"enter the length of side 1 : \"))\n",
        "side2 = int(input(\"enter the length of side 2 : \"))\n",
        "side3 = int(input(\"enter the length of side 3 : \"))\n",
        "\n",
        "if side1 == side2 == side3 :\n",
        "  print(\"the triangle is equilateral\")\n",
        "\n",
        "elif side1 == side2 or side2 == side3 or side3 == side1 :\n",
        "  print(\"the triangle is isosceles\")\n",
        "\n",
        "else :\n",
        "  print(\"the triangle is scalene\")\n"
      ],
      "metadata": {
        "colab": {
          "base_uri": "https://localhost:8080/"
        },
        "id": "K__I5pjQaTmg",
        "outputId": "44ac9c4d-3a5c-4432-9fc9-b00a5fa6b3de"
      },
      "execution_count": null,
      "outputs": [
        {
          "output_type": "stream",
          "name": "stdout",
          "text": [
            "enter the length of side 1 : 12\n",
            "enter the length of side 2 : 12\n",
            "enter the length of side 3 : 34\n",
            "the triangle is isosceles\n"
          ]
        }
      ]
    },
    {
      "cell_type": "code",
      "source": [
        "num1 = int(input(\"enter the first number :\"))\n",
        "num2 = int(input(\"enter the second number :\"))\n",
        "num3 = int(input(\"enter the third number : \"))\n",
        "\n",
        "if num1 >= num2 and num1 >= num3 :\n",
        "  print(\"\\nthe largest number : \",num1)\n",
        "\n",
        "elif num2 >= num1 and num2 >= num3 :\n",
        "  print(\"\\nthe largest number : \",num2)\n",
        "\n",
        "else :\n",
        "  print(\"\\nthe largest number : \",num3)"
      ],
      "metadata": {
        "colab": {
          "base_uri": "https://localhost:8080/"
        },
        "id": "aLghNiNpadZQ",
        "outputId": "990b39cb-6431-44f7-ebbc-bd4867e2166c"
      },
      "execution_count": null,
      "outputs": [
        {
          "output_type": "stream",
          "name": "stdout",
          "text": [
            "enter the first number :34\n",
            "enter the second number :56\n",
            "enter the third number : 12\n",
            "\n",
            "the largest number :  56\n"
          ]
        }
      ]
    },
    {
      "cell_type": "code",
      "source": [
        "char = input(\"enter the character : \")\n",
        "\n",
        "if char in \"aeiouAEIOU\":\n",
        "  print(\"the character is a vowel\")\n",
        "\n",
        "else:\n",
        "  print(\"the character is a consonant\")"
      ],
      "metadata": {
        "colab": {
          "base_uri": "https://localhost:8080/"
        },
        "id": "JeNB3pZLautg",
        "outputId": "25e6b560-4d5d-4ac0-970a-0f13842cbdf2"
      },
      "execution_count": null,
      "outputs": [
        {
          "output_type": "stream",
          "name": "stdout",
          "text": [
            "enter the character : a\n",
            "the character is a vowel\n"
          ]
        }
      ]
    },
    {
      "cell_type": "code",
      "source": [
        "def calci_price(org_prize , pur_amount):\n",
        "\n",
        "  if pur_amount >= 1000:\n",
        "    discount = 10\n",
        "\n",
        "  elif pur_amount >= 500:\n",
        "    discount = 5\n",
        "\n",
        "  elif pur_amount >= 200:\n",
        "    discount = 3\n",
        "\n",
        "  else:\n",
        "    discount = 0\n",
        "\n",
        "  discount_amount = (discount / 100) * org_prize\n",
        "\n",
        "  discounted_prize = org_prize - discount_amount\n",
        "\n",
        "  return discounted_prize\n",
        "\n",
        "org_a = float(input(\"enter the original price : \"))\n",
        "\n",
        "pur_a = float(input(\"enter the purchase price : \"))\n",
        "\n",
        "final_p = calci_price(org_a , pur_a)\n",
        "\n",
        "print(\"the discounted amount is : \",final_p)"
      ],
      "metadata": {
        "colab": {
          "base_uri": "https://localhost:8080/"
        },
        "id": "O8GbKfvUbDXJ",
        "outputId": "42dbd5ed-6740-4931-8687-83e3211e384d"
      },
      "execution_count": null,
      "outputs": [
        {
          "output_type": "stream",
          "name": "stdout",
          "text": [
            "enter the original price : 3400\n",
            "enter the purchase price : 3220\n",
            "the discounted amount is :  3060.0\n"
          ]
        }
      ]
    },
    {
      "cell_type": "code",
      "source": [
        "num = int(input(\"enter the number : \"))\n",
        "\n",
        "if num % 2 == 0 :\n",
        "  print(\"the number is even\")\n",
        "\n",
        "else :\n",
        "  print(\"the number is odd\")\n"
      ],
      "metadata": {
        "colab": {
          "base_uri": "https://localhost:8080/"
        },
        "id": "aHC7G6hmbPOs",
        "outputId": "d764da53-1090-4c4b-a5bf-1b849e2c45f0"
      },
      "execution_count": null,
      "outputs": [
        {
          "output_type": "stream",
          "name": "stdout",
          "text": [
            "enter the number : 5\n",
            "the number is odd\n"
          ]
        }
      ]
    },
    {
      "cell_type": "code",
      "source": [
        "import math\n",
        "\n",
        "def root(a,b,c):\n",
        "\n",
        "  discriminant = b**2 - 4*a*c\n",
        "\n",
        "  if discriminant >= 0 :\n",
        "\n",
        "    root1 = ( -b - math.sqrt(discriminant)) / (2*a)\n",
        "    root2 = ( -b + math.sqrt(discriminant)) / (2*a)\n",
        "\n",
        "    return root1 , root2\n",
        "\n",
        "  else :\n",
        "\n",
        "    real_part = -b / (2*a)\n",
        "    img_part = math.sqrt(abs(discriminant)) / (2*a)\n",
        "\n",
        "    root1 = complex(real_part , img_part)\n",
        "    root2 = complex(real_part , -img_part)\n",
        "\n",
        "    return root1 , root2\n",
        "\n",
        "a = float(input(\"enter coefficient a : \"))\n",
        "b = float(input(\"enter coefficient b : \"))\n",
        "c = float(input(\"enter coefficient c : \"))\n",
        "\n",
        "roots = root(a,b,c)\n",
        "\n",
        "print(\"the roots of the quadratic equations are : \",roots)\n",
        "\n",
        "\n"
      ],
      "metadata": {
        "colab": {
          "base_uri": "https://localhost:8080/"
        },
        "id": "dX77Gd6MbdRh",
        "outputId": "24603604-96b5-4d7f-c378-9b9cdb9cc07d"
      },
      "execution_count": null,
      "outputs": [
        {
          "output_type": "stream",
          "name": "stdout",
          "text": [
            "enter coefficient a : 12\n",
            "enter coefficient b : 34\n",
            "enter coefficient c : 45\n",
            "the roots of the quadratic equations are :  ((-1.4166666666666667+1.3202482931462383j), (-1.4166666666666667-1.3202482931462383j))\n"
          ]
        }
      ]
    },
    {
      "cell_type": "code",
      "source": [
        "def fact(n):\n",
        "\n",
        "  if n == 0 or n == 1:\n",
        "    return 1\n",
        "\n",
        "  else :\n",
        "    return n * fact(n-1)\n",
        "\n",
        "num = int(input(\"enter the number for factorial : \"))\n",
        "\n",
        "if num < 0 :\n",
        "  print(\"the factorial for negative numbers cannot be defined\")\n",
        "\n",
        "else :\n",
        "  result = fact(num)\n",
        "  print(f\"the factorial for {num} is : {result}\")"
      ],
      "metadata": {
        "colab": {
          "base_uri": "https://localhost:8080/"
        },
        "id": "jf7ZeFSKcp2b",
        "outputId": "0f8951d1-027d-4e32-8ada-f1644adb6efc"
      },
      "execution_count": null,
      "outputs": [
        {
          "output_type": "stream",
          "name": "stdout",
          "text": [
            "enter the number for factorial : 5\n",
            "the factorial for 5 is : 120\n"
          ]
        }
      ]
    },
    {
      "cell_type": "code",
      "source": [
        "num1 = int(input(\"enter the first number :\"))\n",
        "num2 = int(input(\"enter the second number :\"))\n",
        "num3 = int(input(\"enter the third number : \"))\n",
        "\n",
        "if num1 >= num2 and num1 >= num3 :\n",
        "  print(\"\\nthe largest number : \",num1)\n",
        "\n",
        "elif num2 >= num1 and num2 >= num3 :\n",
        "  print(\"\\nthe largest number : \",num2)\n",
        "\n",
        "else :\n",
        "  print(\"\\nthe largest number : \",num3)"
      ],
      "metadata": {
        "colab": {
          "base_uri": "https://localhost:8080/"
        },
        "id": "MUTV-S7Jes_h",
        "outputId": "07a2dce3-a211-4f42-fe47-e2d9677d48a0"
      },
      "execution_count": null,
      "outputs": [
        {
          "output_type": "stream",
          "name": "stdout",
          "text": [
            "enter the first number :12\n",
            "enter the second number :45\n",
            "enter the third number : 56\n",
            "\n",
            "the largest number :  56\n"
          ]
        }
      ]
    },
    {
      "cell_type": "code",
      "source": [
        "class ATM :\n",
        "\n",
        "  def __init__(self, balance=1000):\n",
        "    self.balance = balance\n",
        "\n",
        "  def display_menu(self):\n",
        "    print(\"\\n=== ATM Menu===\")\n",
        "    print(\"1. Check Balance\")\n",
        "    print(\"2. Withdraw Money\")\n",
        "    print(\"3. Deposit Money\")\n",
        "    print(\"4. Exit\")\n",
        "\n",
        "  def check_balance(self):\n",
        "    print(f\"Your Current Balance is : Rs{self.balance}\")\n",
        "\n",
        "  def withdraw_money(self):\n",
        "    print(\"Enter the amount you want to withdraw : \")\n",
        "    amount = float(input())\n",
        "    if amount > 0 and amount <= self.balance :\n",
        "      self.balance -= amount\n",
        "\n",
        "      print(f\"Withdrawal is sucessful . Remaining Balance is : {self.balance}\")\n",
        "\n",
        "    else:\n",
        "      print(\"Invalid amount OR Insufficient Funds .\")\n",
        "\n",
        "  def deposit_money(self):\n",
        "    amount = float(input(\"Enter the amount want to deposit : \"))\n",
        "\n",
        "    if amount > 0:\n",
        "      self.balance += amount\n",
        "      print(f\"Deposit is successful. Upadated Balance is : {self.balance}\")\n",
        "\n",
        "    else:\n",
        "      print(\"Invalid Amount\")\n",
        "\n",
        "  def main():\n",
        "\n",
        "    atm = ATM()\n",
        "\n",
        "    while True :\n",
        "\n",
        "      atm.display_menu()\n",
        "\n",
        "      choice = int(input(\"Enter your your choice (1 - 4) : \"))\n",
        "\n",
        "      if choice == 1:\n",
        "        atm.check_balance()\n",
        "\n",
        "      elif choice == 2:\n",
        "        atm.withdraw_money()\n",
        "\n",
        "      elif choice == 3:\n",
        "        atm.deposite_money()\n",
        "\n",
        "      elif choice == 4:\n",
        "        print(\"Thank You for using our ATM . Have a Nice Day !\")\n",
        "        break\n",
        "\n",
        "      else :\n",
        "        print(\"Invalid Choice . Please Enter the number between 1 - 4 . \")\n",
        "\n",
        "\n",
        "if __name__ == \"__main__\":\n",
        "  main()\n"
      ],
      "metadata": {
        "colab": {
          "base_uri": "https://localhost:8080/"
        },
        "id": "9lJWaEB6fMDS",
        "outputId": "c35fbc3c-4d30-45d6-f84d-5c0865c7667a"
      },
      "execution_count": null,
      "outputs": [
        {
          "output_type": "stream",
          "name": "stdout",
          "text": [
            "\n",
            "=== ATM Menu===\n",
            "1. Check Balance\n",
            "2. Withdraw Money\n",
            "3. Deposit Money\n",
            "4. Exit\n",
            "Enter your choice (1-4): 1\n",
            "Your Current Balance is : Rs1000\n",
            "\n",
            "=== ATM Menu===\n",
            "1. Check Balance\n",
            "2. Withdraw Money\n",
            "3. Deposit Money\n",
            "4. Exit\n",
            "Enter your choice (1-4): 2\n",
            "Enter the amount you want to withdraw : \n",
            "20\n",
            "Withdrawal is sucessful . Remaining Balance is : 980.0\n",
            "\n",
            "=== ATM Menu===\n",
            "1. Check Balance\n",
            "2. Withdraw Money\n",
            "3. Deposit Money\n",
            "4. Exit\n",
            "Enter your choice (1-4): 3\n",
            "Enter the amount want to deposit : 40\n",
            "Deposit is successful. Upadated Balance is : 1020.0\n",
            "\n",
            "=== ATM Menu===\n",
            "1. Check Balance\n",
            "2. Withdraw Money\n",
            "3. Deposit Money\n",
            "4. Exit\n",
            "Enter your choice (1-4): 4\n",
            "Thank you for using the ATM. Goodbye!\n"
          ]
        }
      ]
    },
    {
      "cell_type": "code",
      "source": [
        "string1 = str(input(\"enter the string : \"))\n",
        "\n",
        "if string1 == string1[::-1]:\n",
        "  print(\"the string is palindrome\")\n",
        "\n",
        "else :\n",
        "  print(\"the string is not palindrome\")"
      ],
      "metadata": {
        "colab": {
          "base_uri": "https://localhost:8080/"
        },
        "id": "SXpVnJBmnqS4",
        "outputId": "f80b92ec-2c66-4324-e5e8-6fd9a11d68b2"
      },
      "execution_count": null,
      "outputs": [
        {
          "output_type": "stream",
          "name": "stdout",
          "text": [
            "enter the string : madam\n",
            "the string is palindrome\n"
          ]
        }
      ]
    },
    {
      "cell_type": "code",
      "source": [
        "def avg(numbers):\n",
        "\n",
        "  if len(numbers) < 3 :\n",
        "    print(\"Insufficient elements to calculate average\")\n",
        "    return\n",
        "\n",
        "  numbers.sort()\n",
        "  trim_num = numbers[1:-1]\n",
        "\n",
        "  average = sum(trim_num) / len(trim_num)\n",
        "\n",
        "  return average\n",
        "\n",
        "try:\n",
        "\n",
        "  in_numbers = input(\"enter the numbers : \")\n",
        "  number = [float(x) for x in in_numbers.split()]\n",
        "\n",
        "  result = avg(number)\n",
        "\n",
        "  if result is not None :\n",
        "    print(\"the average after excluding the smallest and the largest number :\",result)\n",
        "\n",
        "\n",
        "except ValueError:\n",
        "  print(\"Invalid Input . Enter the list of numbers\")"
      ],
      "metadata": {
        "colab": {
          "base_uri": "https://localhost:8080/"
        },
        "id": "cr0w-OSHp5Xp",
        "outputId": "ce544931-c993-4b59-e616-3bd8c93afaca"
      },
      "execution_count": null,
      "outputs": [
        {
          "output_type": "stream",
          "name": "stdout",
          "text": [
            "enter the numbers : 12 34 56 78 90 \n",
            "the average after excluding the smallest and the largest number : 56.0\n"
          ]
        }
      ]
    },
    {
      "cell_type": "code",
      "source": [
        "def fahrenheit(celcius):\n",
        "\n",
        "  fahrenheit = (celcius * 9 / 5) + 32\n",
        "  return fahrenheit\n",
        "\n",
        "\n",
        "celcius = float(input(\"enter the teperature in celcius : \"))\n",
        "\n",
        "result = fahrenheit(celcius)\n",
        "\n",
        "print(\"the temperature in fahrenheit is : \",result)\n"
      ],
      "metadata": {
        "colab": {
          "base_uri": "https://localhost:8080/"
        },
        "id": "SdDn5QqMsrQU",
        "outputId": "ea891930-2c51-46b4-c0b5-7fb67a0b85a9"
      },
      "execution_count": null,
      "outputs": [
        {
          "output_type": "stream",
          "name": "stdout",
          "text": [
            "enter the teperature in celcius : 42\n",
            "the temperature in fahrenheit is :  107.6\n"
          ]
        }
      ]
    },
    {
      "cell_type": "code",
      "source": [
        "def add(x, y):\n",
        "    return x + y\n",
        "\n",
        "def subtract(x, y):\n",
        "    return x - y\n",
        "\n",
        "def multiply(x, y):\n",
        "    return x * y\n",
        "\n",
        "def divide(x, y):\n",
        "    if y != 0:\n",
        "        return x / y\n",
        "    else:\n",
        "        print(\"Error: Division by zero\")\n",
        "        return None\n",
        "\n",
        "def calculator():\n",
        "    print(\"=== Basic Calculator ===\")\n",
        "    while True:\n",
        "        print(\"Select operation:\")\n",
        "        print(\"1. Addition\")\n",
        "        print(\"2. Subtraction\")\n",
        "        print(\"3. Multiplication\")\n",
        "        print(\"4. Division\")\n",
        "        print(\"5. Exit\")\n",
        "\n",
        "        choice = input(\"Enter choice (1-5): \")\n",
        "\n",
        "        if choice in ('1', '2', '3', '4'):\n",
        "            try:\n",
        "                num1 = float(input(\"Enter first number: \"))\n",
        "                num2 = float(input(\"Enter second number: \"))\n",
        "            except ValueError:\n",
        "                print(\"Invalid input. Please enter valid numerical values.\")\n",
        "                continue\n",
        "\n",
        "            if choice == '1':\n",
        "                result = add(num1, num2)\n",
        "                print(f\"{num1} + {num2} = {result}\")\n",
        "            elif choice == '2':\n",
        "                result = subtract(num1, num2)\n",
        "                print(f\"{num1} - {num2} = {result}\")\n",
        "            elif choice == '3':\n",
        "                result = multiply(num1, num2)\n",
        "                print(f\"{num1} * {num2} = {result}\")\n",
        "            elif choice == '4':\n",
        "                result = divide(num1, num2)\n",
        "                if result is not None:\n",
        "                    print(f\"{num1} / {num2} = {result}\")\n",
        "        elif choice == '5':\n",
        "            print(\"Exiting the calculator. Goodbye!\")\n",
        "            break\n",
        "        else:\n",
        "            print(\"Invalid choice. Please enter a number between 1 and 5.\")\n",
        "\n",
        "if __name__ == \"__main__\":\n",
        "    calculator()\n"
      ],
      "metadata": {
        "colab": {
          "base_uri": "https://localhost:8080/"
        },
        "id": "zMFaHJXatk7j",
        "outputId": "ce9049cc-6663-4d19-815a-ee2e0d195513"
      },
      "execution_count": null,
      "outputs": [
        {
          "output_type": "stream",
          "name": "stdout",
          "text": [
            "=== Basic Calculator ===\n",
            "Select operation:\n",
            "1. Addition\n",
            "2. Subtraction\n",
            "3. Multiplication\n",
            "4. Division\n",
            "5. Exit\n",
            "Enter choice (1-5): 1\n",
            "Enter first number: 12\n",
            "Enter second number: 5\n",
            "12.0 + 5.0 = 17.0\n",
            "Select operation:\n",
            "1. Addition\n",
            "2. Subtraction\n",
            "3. Multiplication\n",
            "4. Division\n",
            "5. Exit\n",
            "Enter choice (1-5): 2\n",
            "Enter first number: 23\n",
            "Enter second number: 45\n",
            "23.0 - 45.0 = -22.0\n",
            "Select operation:\n",
            "1. Addition\n",
            "2. Subtraction\n",
            "3. Multiplication\n",
            "4. Division\n",
            "5. Exit\n",
            "Enter choice (1-5): 3\n",
            "Enter first number: 34\n",
            "Enter second number: 65\n",
            "34.0 * 65.0 = 2210.0\n",
            "Select operation:\n",
            "1. Addition\n",
            "2. Subtraction\n",
            "3. Multiplication\n",
            "4. Division\n",
            "5. Exit\n",
            "Enter choice (1-5): 4\n",
            "Enter first number: 12\n",
            "Enter second number: 3\n",
            "12.0 / 3.0 = 4.0\n",
            "Select operation:\n",
            "1. Addition\n",
            "2. Subtraction\n",
            "3. Multiplication\n",
            "4. Division\n",
            "5. Exit\n",
            "Enter choice (1-5): 5\n",
            "Exiting the calculator. Goodbye!\n"
          ]
        }
      ]
    },
    {
      "cell_type": "code",
      "source": [
        "import math\n",
        "\n",
        "def cubic_roots(a, b, c, d):\n",
        "    # Calculate the discriminant and its cube root\n",
        "    delta = 18 * a * b * c * d - 4 * b**3 * d + b**2 * c**2 - 4 * a * c**3 - 27 * a**2 * d**2\n",
        "    delta_cubed_root = abs(delta)**(1/3)\n",
        "\n",
        "    # Calculate the intermediate values\n",
        "    p = (3 * a * c - b**2) / (3 * a**2)\n",
        "    q = (2 * b**3 - 9 * a * b * c + 27 * a**2 * d) / (27 * a**3)\n",
        "\n",
        "    # Calculate the roots using Cardano's formula\n",
        "    if delta > 0:\n",
        "        # Case 1: Three real roots\n",
        "        root_1 = -1/(3*a) * (b + delta_cubed_root + p/delta_cubed_root)\n",
        "        root_2 = -1/(3*a) * (b - (1 + 1j * math.sqrt(3)) * delta_cubed_root + p/((1 + 1j * math.sqrt(3)) * delta_cubed_root))\n",
        "        root_3 = -1/(3*a) * (b - (1 - 1j * math.sqrt(3)) * delta_cubed_root + p/((1 - 1j * math.sqrt(3)) * delta_cubed_root))\n",
        "    elif delta == 0:\n",
        "        # Case 2: One real root (repeated)\n",
        "        root_1 = -1/(3*a) * (b + delta_cubed_root + p/delta_cubed_root)\n",
        "        root_2 = -1/(3*a) * (b - (1 + 1j * math.sqrt(3)) * delta_cubed_root + p/((1 + 1j * math.sqrt(3)) * delta_cubed_root))\n",
        "        root_3 = -1/(3*a) * (b - (1 - 1j * math.sqrt(3)) * delta_cubed_root + p/((1 - 1j * math.sqrt(3)) * delta_cubed_root))\n",
        "    else:\n",
        "        # Case 3: One real root and two complex conjugate roots\n",
        "        root_1 = -1/(3*a) * (b + delta_cubed_root + p/delta_cubed_root)\n",
        "        root_2 = -1/(3*a) * (b - (1 + 1j * math.sqrt(3)) * delta_cubed_root + p/((1 + 1j * math.sqrt(3)) * delta_cubed_root))\n",
        "        root_3 = -1/(3*a) * (b - (1 - 1j * math.sqrt(3)) * delta_cubed_root + p/((1 - 1j * math.sqrt(3)) * delta_cubed_root))\n",
        "\n",
        "    return root_1, root_2, root_3\n",
        "\n",
        "# Get user input for coefficients of the cubic equation\n",
        "try:\n",
        "    a = float(input(\"Enter the coefficient a: \"))\n",
        "    b = float(input(\"Enter the coefficient b: \"))\n",
        "    c = float(input(\"Enter the coefficient c: \"))\n",
        "    d = float(input(\"Enter the coefficient d: \"))\n",
        "\n",
        "    # Calculate and display the roots\n",
        "    roots = cubic_roots(a, b, c, d)\n",
        "    print(\"Roots of the cubic equation:\")\n",
        "    print(\"Root 1:\", roots[0])\n",
        "    print(\"Root 2:\", roots[1])\n",
        "    print(\"Root 3:\", roots[2])\n",
        "\n",
        "except ValueError:\n",
        "    print(\"Invalid input. Please enter valid numerical coefficients.\")\n"
      ],
      "metadata": {
        "colab": {
          "base_uri": "https://localhost:8080/"
        },
        "id": "vqFORI-Rxa5h",
        "outputId": "bc9528ec-5896-429a-fd16-db4ccc2215f9"
      },
      "execution_count": null,
      "outputs": [
        {
          "output_type": "stream",
          "name": "stdout",
          "text": [
            "Enter the coefficient a: 4\n",
            "Enter the coefficient b: 3\n",
            "Enter the coefficient c: 2\n",
            "Enter the coefficient d: 1\n",
            "Roots of the cubic equation:\n",
            "Root 1: -0.7417893520632816\n",
            "Root 2: (0.23622302411185994+0.8460194467009098j)\n",
            "Root 3: (0.23622302411185994-0.8460194467009098j)\n"
          ]
        }
      ]
    },
    {
      "cell_type": "code",
      "source": [
        "def calculate_income_tax(income):\n",
        "\n",
        "    brackets = [10000, 50000, 100000, 200000]\n",
        "    rates = [0.5, 1, 1.5, 2]\n",
        "\n",
        "    brackets.append(float('inf'))\n",
        "\n",
        "    tax = 0\n",
        "    remaining_income = income\n",
        "\n",
        "    for i in range(len(brackets) - 1):\n",
        "        lower_limit = brackets[i]\n",
        "        upper_limit = brackets[i + 1]\n",
        "\n",
        "        taxable_income = min(remaining_income, upper_limit - lower_limit)\n",
        "\n",
        "        tax += taxable_income * rates[i]\n",
        "\n",
        "        remaining_income -= taxable_income\n",
        "\n",
        "        if remaining_income <= 0:\n",
        "            break\n",
        "\n",
        "    return tax\n",
        "\n",
        "def main():\n",
        "    try:\n",
        "        income = float(input(\"Enter your annual income: \"))\n",
        "    except ValueError:\n",
        "        print(\"Invalid input. Please enter a valid number.\")\n",
        "        return\n",
        "\n",
        "    income_tax = calculate_income_tax(income)\n",
        "\n",
        "    print(f\"Your income tax is: {income_tax}\")\n",
        "\n",
        "if __name__ == \"__main__\":\n",
        "    main()\n"
      ],
      "metadata": {
        "colab": {
          "base_uri": "https://localhost:8080/"
        },
        "id": "_p0-eK7qnqPg",
        "outputId": "b3be7783-2835-48fd-c511-410662d21425"
      },
      "execution_count": null,
      "outputs": [
        {
          "output_type": "stream",
          "name": "stdout",
          "text": [
            "Enter your annual income: 100000\n",
            "Your income tax is: 85000.0\n"
          ]
        }
      ]
    },
    {
      "cell_type": "code",
      "source": [
        "import random\n",
        "\n",
        "def get_user_choice():\n",
        "\n",
        "  user_choice = input(\"Enter your choice : ( rock , paper , pcissors )  \").lower()\n",
        "\n",
        "  while user_choice  not in [\"rock\" , \"paper\" , \"scissors\"]:\n",
        "    print(\"Invalid Choice . Please enter rock , paper , scissors : \")\n",
        "    user_choice = input(\"Enter your choice : \").lower()\n",
        "\n",
        "    return user_choice\n",
        "\n",
        "\n",
        "def get_computer_choice():\n",
        "\n",
        "  return random.choice([\"rock\" , \"paper\" , \"scissors\"])\n",
        "\n",
        "\n",
        "def winner( user_choice , computer_choice ):\n",
        "\n",
        "  if user_choice == computer_choice :\n",
        "    return \"It's a Tie !!\"\n",
        "\n",
        "  elif (\n",
        "\n",
        "        ( user_choice == \"rock\" and computer_choice == \"scissors\") or\n",
        "        ( user_choice == \"paper\" and computer_choice == \"rock\") or\n",
        "        (user_choice == \"scissors\" and computer_choice == \"paper\")\n",
        "\n",
        "       ):\n",
        "    return \"You Win !!\"\n",
        "\n",
        "  else:\n",
        "    return \"Computer Wins !!\"\n",
        "\n",
        "def main():\n",
        "\n",
        "  print(\"Welcome To rock - paper - scissors !!! \\n\")\n",
        "\n",
        "  while True :\n",
        "\n",
        "    user_choice = get_user_choice()\n",
        "    computer_choice = get_computer_choice()\n",
        "\n",
        "    print(f\"You chose {user_choice}. Computer chose {computer_choice}.\")\n",
        "\n",
        "\n",
        "    result = winner(user_choice , computer_choice)\n",
        "    print(result)\n",
        "\n",
        "    play_again = input(\"Do you want to play again ? yes / no  \").lower()\n",
        "\n",
        "    if play_again != \"yes\":\n",
        "      print(\"Thanks for playing. GoodBye\")\n",
        "      break\n",
        "\n",
        "if __name__ == \"__main__\":\n",
        "  main()"
      ],
      "metadata": {
        "colab": {
          "base_uri": "https://localhost:8080/"
        },
        "id": "3TfAUWNGIr4A",
        "outputId": "88dfa9dd-842f-4b63-a282-3449333e769e"
      },
      "execution_count": null,
      "outputs": [
        {
          "output_type": "stream",
          "name": "stdout",
          "text": [
            "Welcome To rock - paper - scissors !!! \n",
            "\n",
            "Enter your choice : ( rock , paper , pcissors )  rock\n",
            "You chose None. Computer chose scissors.\n",
            "Computer Wins !!\n",
            "Do you want to play again ? yes / no  no\n",
            "Thanks for playing. GoodBye\n"
          ]
        }
      ]
    },
    {
      "cell_type": "code",
      "source": [
        "import random\n",
        "import string\n",
        "\n",
        "def generate_password(length, uppercase=True, lowercase=True, digits=True, special_chars=True):\n",
        "    chars = \"\"\n",
        "    if uppercase:\n",
        "        chars += string.ascii_uppercase\n",
        "    if lowercase:\n",
        "        chars += string.ascii_lowercase\n",
        "    if digits:\n",
        "        chars += string.digits\n",
        "    if special_chars:\n",
        "        chars += string.punctuation\n",
        "\n",
        "    if not chars:\n",
        "        print(\"Please select at least one character set.\")\n",
        "        return None\n",
        "\n",
        "    password_result = ''.join(random.choice(chars) for _ in range(length))\n",
        "    return password_result\n",
        "\n",
        "def main():\n",
        "    print(\"Random Password Generator\")\n",
        "\n",
        "    try:\n",
        "        length = int(input(\"Enter the length of the desired password: \"))\n",
        "    except ValueError:\n",
        "        print(\"Invalid input. Enter a valid number.\")\n",
        "        return\n",
        "\n",
        "    uppercase = input(\"Include uppercase letters? (yes/no): \").lower() == 'yes'\n",
        "    lowercase = input(\"Include lowercase letters? (yes/no): \").lower() == 'yes'\n",
        "    digits = input(\"Include digits? (yes/no): \").lower() == 'yes'\n",
        "    special_chars = input(\"Include special characters? (yes/no): \\n\").lower() == 'yes'\n",
        "\n",
        "    generated_password = generate_password(length, uppercase, lowercase, digits, special_chars)\n",
        "\n",
        "    if generated_password:\n",
        "        print(\"Generated password:\", generated_password)\n",
        "\n",
        "if __name__ == \"__main__\":\n",
        "    main()\n"
      ],
      "metadata": {
        "colab": {
          "base_uri": "https://localhost:8080/"
        },
        "id": "soUc_qKlVvC5",
        "outputId": "9c415850-0aad-4c00-837e-2d9549070615"
      },
      "execution_count": null,
      "outputs": [
        {
          "output_type": "stream",
          "name": "stdout",
          "text": [
            "Random Password Generator\n",
            "Enter the length of the desired password: 9\n",
            "Include uppercase letters? (yes/no): yes\n",
            "Include lowercase letters? (yes/no): yes\n",
            "Include digits? (yes/no): yes\n",
            "Include special characters? (yes/no): \n",
            "yes\n",
            "Generated password: ~>]^opH{~\n"
          ]
        }
      ]
    },
    {
      "cell_type": "code",
      "source": [
        "from os import path\n",
        "import time\n",
        "\n",
        "def intro():\n",
        "\n",
        "  print(\"Welcome to text adventure game !! \")\n",
        "  time.sleep(1)\n",
        "  print(\"You find yourself in a mysterious place with 2 paths ahead ....\")\n",
        "  time.sleep(1)\n",
        "\n",
        "\n",
        "def make_choice(question, option1 , option2):\n",
        "\n",
        "  print(question)\n",
        "  time.sleep(1)\n",
        "\n",
        "  print( \"1. \" + option1)\n",
        "  time.sleep(1)\n",
        "\n",
        "  print(\"2. \" + option2)\n",
        "  time.sleep(1)\n",
        "\n",
        "  choice = input(\"Enter 1 or 2 to make your choice : \")\n",
        "  return choice\n",
        "\n",
        "\n",
        "def path1():\n",
        "\n",
        "  print(\"\\n You chose path 1 ....\")\n",
        "  time.sleep(1)\n",
        "\n",
        "  print(\"You encounter a friendly unicorn !!\")\n",
        "  time.sleep(1)\n",
        "\n",
        "  print(\"the unicorn leads to hidden garden... \")\n",
        "  time.sleep(1)\n",
        "\n",
        "  print(\"Congratulation !! ..... You have found a peaceful century ....\")\n",
        "  time.sleep(1)\n",
        "\n",
        "\n",
        "def path2():\n",
        "\n",
        "  print(\"\\n You have chose path 2 ...\")\n",
        "  time.sleep(1)\n",
        "\n",
        "  print(\"You came across a mysterious cave ....\")\n",
        "  time.sleep(1)\n",
        "\n",
        "  print(\"Inside cave , you found a mysterious treasure !!!\")\n",
        "  time.sleepO(1)\n",
        "\n",
        "  print(\"Congratulation !! .... You have found a hidden treasure !! ....\")\n",
        "\n",
        "\n",
        "def main():\n",
        "\n",
        "  intro()\n",
        "\n",
        "  choice1 = make_choice(\"Which path will you take ? \" ,\" Follow the rainbow path \" , \" Follow the dark cave\")\n",
        "\n",
        "  if choice1 == '1':\n",
        "    path1()\n",
        "\n",
        "  elif choice1 == '2':\n",
        "    path2()\n",
        "\n",
        "  else :\n",
        "    print(\"Invalid choice . Your adventure ends .....\")\n",
        "\n",
        "\n",
        "if __name__ == \"__main__\" :\n",
        "  main()"
      ],
      "metadata": {
        "colab": {
          "base_uri": "https://localhost:8080/"
        },
        "id": "jwsP4xNXkc_J",
        "outputId": "ef9fa77d-fd48-4d83-b5d9-f3f6f343530f"
      },
      "execution_count": null,
      "outputs": [
        {
          "output_type": "stream",
          "name": "stdout",
          "text": [
            "Welcome to text adventure game !! \n",
            "You find yourself in a mysterious place with 2 paths ahead ....\n",
            "Which path will you take ? \n",
            "1.  Follow the rainbow path \n",
            "2.  Follow the dark cave\n",
            "Enter 1 or 2 to make your choice : 1\n",
            "\n",
            " You chose path 1 ....\n",
            "You encounter a friendly unicorn !!\n",
            "the unicorn leads to hidden garden... \n",
            "Congratulation !! ..... You have found a peaceful century ....\n"
          ]
        }
      ]
    },
    {
      "cell_type": "code",
      "source": [
        "def solve_eq(a,b):\n",
        "\n",
        "  if a == 0 :\n",
        "\n",
        "    if b == 0 :\n",
        "      return \"Indefinite solution\"\n",
        "\n",
        "    else:\n",
        "      return \"No Solution\"\n",
        "\n",
        "  else:\n",
        "    x = -b / a\n",
        "    return f\"The soltion for x is : {x}\"\n",
        "\n",
        "\n",
        "def main():\n",
        "\n",
        "  print(\"The linear equation for ax + b  = 0  \\n\")\n",
        "\n",
        "  try:\n",
        "\n",
        "    a = float(input(\"enter the coeffient for a : \"))\n",
        "    b = float(input(\"enter the coeffient for b : \"))\n",
        "\n",
        "  except ValueError:\n",
        "    print(\"Invalid Input . Please enter the valid coeffients of a & b . \")\n",
        "    return\n",
        "\n",
        "  solution = solve_eq(a,b)\n",
        "  print(solution)\n",
        "\n",
        "\n",
        "if __name__ == \"__main__\":\n",
        "  main()\n",
        "\n",
        "\n"
      ],
      "metadata": {
        "colab": {
          "base_uri": "https://localhost:8080/"
        },
        "id": "lwVLeroPo6Gd",
        "outputId": "b87e9e1f-4ae6-40e1-8fce-9d430af7f050"
      },
      "execution_count": null,
      "outputs": [
        {
          "output_type": "stream",
          "name": "stdout",
          "text": [
            "The linear equation for ax + b  = 0  \n",
            "\n",
            "enter the coeffient for a : 12\n",
            "enter the coeffient for b : -23\n",
            "The soltion for x is : 1.9166666666666667\n"
          ]
        }
      ]
    },
    {
      "cell_type": "code",
      "source": [
        "class Quiz :\n",
        "\n",
        "  def __init__( self , questions ):\n",
        "\n",
        "    self.questions = questions\n",
        "    self.score = 0\n",
        "\n",
        "\n",
        "  def display_question( self , question):\n",
        "\n",
        "    print(question[\"text\"])\n",
        "\n",
        "    for i , option in enumerate( question[\"options\"] , start=1):\n",
        "      print(f\"{i}. {option}\")\n",
        "\n",
        "    user_ans = input(\"Your choice ( enter the option number ) : \")\n",
        "    return int(user_ans)\n",
        "\n",
        "\n",
        "  def run_quiz(self):\n",
        "\n",
        "    for question in self.questions :\n",
        "      user_ans = self.display_question(question)\n",
        "      correct_ans = question[\"answer\"]\n",
        "\n",
        "      if user_ans == correct_ans :\n",
        "        print(\"Correct !! \\n\")\n",
        "        self.score += 1\n",
        "\n",
        "      else :\n",
        "        print(f\"Wrong . The correct answer was {correct_ans} : : {question['options'][correct_answer - 1]}\\n\")\n",
        "\n",
        "    print(f\"Quiz is completed ! . Your score is {self.score} / {len(self.questions)}\")\n",
        "\n",
        "\n",
        "if __name__ == \"__main__\" :\n",
        "\n",
        "  quiz_questions = [\n",
        "\n",
        "                    {\n",
        "                      \"text\" : \"What is the capital of France ? \",\n",
        "                      \"options\" : [ \"Berlin\" , \"Paris\" , \"London\" , \"Madrid\"],\n",
        "                      \"answer\" : 2 ,\n",
        "                    },\n",
        "\n",
        "                    {\n",
        "                     \"text\" : \"Which planet is known as red palnet ? \",\n",
        "                     \"options\" : [\"earth\" , \"jupiter\" , \"mars\" , \"neptune\"],\n",
        "                     \"answer\" : 3 ,\n",
        "                    },\n",
        "\n",
        "                    {\n",
        "                       \"text\": \"What is the largest mammal on Earth?\",\n",
        "                       \"options\": [\"Elephant\", \"Blue Whale\", \"Giraffe\", \"Hippopotamus\"],\n",
        "                       \"answer\": 2,\n",
        "                    }\n",
        "\n",
        "\n",
        "                 ]\n",
        "\n",
        "quiz = Quiz(quiz_questions)\n",
        "quiz.run_quiz()"
      ],
      "metadata": {
        "id": "N3HyTz8yuYuQ",
        "colab": {
          "base_uri": "https://localhost:8080/"
        },
        "outputId": "b02a70e3-8385-4d1e-a2f1-c7b8a4968ac0"
      },
      "execution_count": 4,
      "outputs": [
        {
          "output_type": "stream",
          "name": "stdout",
          "text": [
            "What is the capital of France ? \n",
            "1. Berlin\n",
            "2. Paris\n",
            "3. London\n",
            "4. Madrid\n",
            "Your choice ( enter the option number ) : 2\n",
            "Correct !! \n",
            "\n",
            "Which planet is known as red palnet ? \n",
            "1. earth\n",
            "2. jupiter\n",
            "3. mars\n",
            "4. neptune\n",
            "Your choice ( enter the option number ) : 3\n",
            "Correct !! \n",
            "\n",
            "What is the largest mammal on Earth?\n",
            "1. Elephant\n",
            "2. Blue Whale\n",
            "3. Giraffe\n",
            "4. Hippopotamus\n",
            "Your choice ( enter the option number ) : 2\n",
            "Correct !! \n",
            "\n",
            "Quiz is completed ! . Your score is 3 / 3\n"
          ]
        }
      ]
    },
    {
      "cell_type": "code",
      "source": [
        "def prime(year):\n",
        "\n",
        "  if year < 2 :\n",
        "    return False\n",
        "\n",
        "  for i in range( 2 , int(year ** 0.5) + 1 ):\n",
        "    if year % i == 0 :\n",
        "      return False\n",
        "\n",
        "  return True\n",
        "\n",
        "\n",
        "if __name__ == \"__main__\" :\n",
        "\n",
        "  try :\n",
        "\n",
        "    year = int(input(\"Enter the year to check if it's prime : \"))\n",
        "\n",
        "    if prime(year):\n",
        "      print(f\"{year} is a prime year\")\n",
        "\n",
        "    else :\n",
        "      print(f\"{year} is not a prime year\")\n",
        "\n",
        "  except ValueError :\n",
        "\n",
        "    print(\"Invalid input . Please enter the valid year .\")\n",
        "\n"
      ],
      "metadata": {
        "colab": {
          "base_uri": "https://localhost:8080/"
        },
        "id": "XKS4_yKwQoBV",
        "outputId": "48841082-d383-4575-dc48-85aeaca53d74"
      },
      "execution_count": 7,
      "outputs": [
        {
          "output_type": "stream",
          "name": "stdout",
          "text": [
            "Enter the year to check if it's prime : 2027\n",
            "2027 is a prime year\n"
          ]
        }
      ]
    },
    {
      "cell_type": "code",
      "source": [
        "def sort_numbers(a,b,c):\n",
        "\n",
        "  if a >= b >= c :\n",
        "    return a , b , c\n",
        "\n",
        "  elif a >= c >= b :\n",
        "    return a , c , b\n",
        "\n",
        "  elif b >= a >= c :\n",
        "    return b , a , c\n",
        "\n",
        "  elif b >= c >= a :\n",
        "    return b , c , a\n",
        "\n",
        "  elif c >= a >= b :\n",
        "    return c , a , b\n",
        "\n",
        "  else :\n",
        "    return c , b , a\n",
        "\n",
        "\n",
        "if __name__ == \"__main__\":\n",
        "\n",
        "  try :\n",
        "\n",
        "    num1 = float(input(\"Enter the first number : \"))\n",
        "    num2 = float(input(\"Enter the second number : \"))\n",
        "    num3 = float(input(\"Enter the third number : \"))\n",
        "\n",
        "    sorted_num = sort_numbers(num1 , num2 , num3)\n",
        "\n",
        "    print(\"Sorted numbers in ascending order : \",sorted_num)\n",
        "\n",
        "  except ValueError :\n",
        "    print(\"Invalid input . Please enter the valid numbers\")\n"
      ],
      "metadata": {
        "colab": {
          "base_uri": "https://localhost:8080/"
        },
        "id": "kR8MnFtFT5Ef",
        "outputId": "28675f14-22f6-424e-cd91-e1479fad69ac"
      },
      "execution_count": 9,
      "outputs": [
        {
          "output_type": "stream",
          "name": "stdout",
          "text": [
            "Enter the first number : 12\n",
            "Enter the second number : 45\n",
            "Enter the third number : 1\n",
            "Sorted numbers in ascending order :  (45.0, 12.0, 1.0)\n"
          ]
        }
      ]
    },
    {
      "cell_type": "code",
      "source": [
        "def quartic_eq(x, coefficients):\n",
        "    return sum(coeff * x ** i for i, coeff in enumerate(coefficients))\n",
        "\n",
        "def quartic_derivative(x, coefficients):\n",
        "    return sum(i * coeff * x ** (i - 1) for i, coeff in enumerate(coefficients[1:], start=1))\n",
        "\n",
        "def newton_method(initial_guess, coefficients, tolerance=1e-6, max_iterations=100):\n",
        "    x = initial_guess\n",
        "\n",
        "    for _ in range(max_iterations):\n",
        "        f_x = quartic_eq(x, coefficients)\n",
        "        f_prime_x = quartic_derivative(x, coefficients)\n",
        "\n",
        "        if abs(f_prime_x) < tolerance:\n",
        "            print(\"Derivative is near zero. Newton Method Failed.\")\n",
        "            return None\n",
        "\n",
        "        x = x - f_x / f_prime_x\n",
        "\n",
        "        if abs(f_x) < tolerance:\n",
        "            return x\n",
        "\n",
        "    print(\"Newton's method did not converge within the maximum number of iterations.\")\n",
        "    return None\n",
        "\n",
        "if __name__ == \"__main__\":\n",
        "    try:\n",
        "        coefficients = [float(input(f\"Enter coefficient for x^{i}: \")) for i in range(4, -1, -1)]\n",
        "        initial_guess = float(input(\"Enter an initial guess for a root: \"))\n",
        "        root = newton_method(initial_guess, coefficients)\n",
        "\n",
        "        if root is not None:\n",
        "            print(f\"A root of the quartic equation is approximately: {root:.6f}\")\n",
        "    except ValueError:\n",
        "        print(\"Invalid input. Please enter valid coefficients and an initial guess.\")\n"
      ],
      "metadata": {
        "colab": {
          "base_uri": "https://localhost:8080/"
        },
        "id": "18ap7WJnX7Yx",
        "outputId": "34bd91c3-c7cb-4f80-9055-1129e947f9f1"
      },
      "execution_count": 14,
      "outputs": [
        {
          "output_type": "stream",
          "name": "stdout",
          "text": [
            "Enter coefficient for x^4: 1\n",
            "Enter coefficient for x^3: 2\n",
            "Enter coefficient for x^2: 3\n",
            "Enter coefficient for x^1: 4\n",
            "Enter coefficient for x^0: 5\n",
            "Enter an initial guess for a root: 6\n",
            "Newton's method did not converge within the maximum number of iterations.\n"
          ]
        }
      ]
    },
    {
      "cell_type": "code",
      "source": [
        "def cal_bmi(height , weight):\n",
        "\n",
        "  return weight / (height ** 2)\n",
        "\n",
        "\n",
        "def recommendation(bmi):\n",
        "\n",
        "  if bmi < 18.5 :\n",
        "    return \"'Underweight : ' You may want to consider gaining some weight to maintain your healthy BMI\"\n",
        "\n",
        "  elif 18.5 <= bmi <= 24.9 :\n",
        "    return \"'Normal Weight : ' Congratulation ! Your weight is in the healthy range .\"\n",
        "\n",
        "  elif 25 <= bmi <= 29.9 :\n",
        "    return \"'Overweight : ' You may want to consider losing some weight to maintain your healthy BMI\"\n",
        "\n",
        "  else:\n",
        "     return \"Obese: Consult with a healthcare professional for guidance on managing your weight.\"\n",
        "\n",
        "if __name__ == \"__main__\" :\n",
        "\n",
        "  try :\n",
        "\n",
        "    weight = float(input(\"Enter your weight in kilograms: \"))\n",
        "    height = float(input(\"Enter your height in meters: \"))\n",
        "\n",
        "    bmi = cal_bmi(height,weight)\n",
        "\n",
        "    print(\"Your BMI is : \",bmi)\n",
        "    print(recommendation(bmi))\n",
        "\n",
        "  except ValueError :\n",
        "    print(\"Invalid input . Please enter the valid height and weight\")\n",
        "\n"
      ],
      "metadata": {
        "colab": {
          "base_uri": "https://localhost:8080/"
        },
        "id": "XB-kEaZAccrA",
        "outputId": "3fb35c75-266f-40ac-af70-c5b4b6813188"
      },
      "execution_count": 15,
      "outputs": [
        {
          "output_type": "stream",
          "name": "stdout",
          "text": [
            "Enter your weight in kilograms: 70\n",
            "Enter your height in meters: 1.6\n",
            "Your BMI is :  27.343749999999996\n",
            "'Overweight : ' You may want to consider losing some weight to maintain your healthy BMI\n"
          ]
        }
      ]
    },
    {
      "cell_type": "code",
      "source": [
        "import re\n",
        "\n",
        "def valid_pass(password):\n",
        "\n",
        "  if len(password) < 8 :\n",
        "    return False\n",
        "\n",
        "  if not any (char.isupper() for char in password):\n",
        "    return False\n",
        "\n",
        "  if not any (char.islower() for char in password):\n",
        "    return False\n",
        "\n",
        "  if not any (char.isdigit() for char in password):\n",
        "    return False\n",
        "\n",
        "  if not re.search(r'[!@#$%^&*(),.?\":{}|<>]',password):\n",
        "    return False\n",
        "\n",
        "  return True\n",
        "\n",
        "\n",
        "if __name__ == \"__main__\":\n",
        "\n",
        "  try:\n",
        "\n",
        "    password = input(\"Enter the password : \")\n",
        "\n",
        "    if valid_pass(password):\n",
        "      print(\"Password is valid . Good Job !!!\")\n",
        "\n",
        "    else :\n",
        "      print(\"Password is invalid . Please enter the compatible password .\")\n",
        "\n",
        "\n",
        "  except KeyboardInterrupt :\n",
        "\n",
        "    print(\"\\n Program is terminated by user .\")\n",
        "\n",
        "  except Exception as e :\n",
        "    print(f\"\\nAn error occured : {e} \")\n",
        "\n"
      ],
      "metadata": {
        "colab": {
          "base_uri": "https://localhost:8080/"
        },
        "id": "xYtoxiCkeq_J",
        "outputId": "6340f0b9-6532-40f7-ce9e-04cfe762bbb8"
      },
      "execution_count": 8,
      "outputs": [
        {
          "output_type": "stream",
          "name": "stdout",
          "text": [
            "Enter the password : qwe123#W\n",
            "Password is valid . Good Job !!!\n"
          ]
        }
      ]
    },
    {
      "cell_type": "code",
      "source": [
        "def matrix_add(matrix1, matrix2):\n",
        "\n",
        "    result_matrix = [[0 for _ in range(len(matrix1[0]))] for _ in range(len(matrix1))]\n",
        "\n",
        "    for i in range(len(matrix1)):\n",
        "\n",
        "        for j in range(len(matrix1[0])):\n",
        "\n",
        "            result_matrix[i][j] = matrix1[i][j] + matrix2[i][j]\n",
        "\n",
        "    return result_matrix\n",
        "\n",
        "def matrix_sub(matrix1, matrix2):\n",
        "\n",
        "    result_matrix = [[0 for _ in range(len(matrix1[0]))] for _ in range(len(matrix1))]\n",
        "\n",
        "    for i in range(len(matrix1)):\n",
        "\n",
        "        for j in range(len(matrix1[0])):\n",
        "\n",
        "            result_matrix[i][j] = matrix1[i][j] - matrix2[i][j]\n",
        "\n",
        "    return result_matrix\n",
        "\n",
        "def input_matrix():\n",
        "\n",
        "    rows = int(input(\"Enter the number of rows: \"))\n",
        "    cols = int(input(\"Enter the number of columns: \"))\n",
        "\n",
        "    matrix = []\n",
        "\n",
        "    for i in range(rows):\n",
        "\n",
        "        row = [float(input(f\"Enter the element at position ({i+1}, {j+1}): \")) for j in range(cols)]\n",
        "        matrix.append(row)\n",
        "\n",
        "    return matrix\n",
        "\n",
        "def display_matrix(matrix, label):\n",
        "\n",
        "    print(f\"{label} Matrix:\")\n",
        "\n",
        "    for row in matrix:\n",
        "        print(row)\n",
        "\n",
        "if __name__ == \"__main__\":\n",
        "    try:\n",
        "        print(\"Input Matrix 1:\")\n",
        "        matrix1 = input_matrix()\n",
        "\n",
        "        print(\"\\nInput Matrix 2:\")\n",
        "        matrix2 = input_matrix()\n",
        "\n",
        "        add_result = matrix_add(matrix1, matrix2)\n",
        "        sub_result = matrix_sub(matrix1, matrix2)\n",
        "\n",
        "        display_matrix(add_result, \"Addition Result\")\n",
        "        print(\"\\n\")\n",
        "        display_matrix(sub_result, \"Subtraction Result\")\n",
        "\n",
        "    except ValueError:\n",
        "        print(\"\\nInvalid input. Please enter valid elements for the matrix.\")\n",
        "\n",
        "    except KeyboardInterrupt:\n",
        "        print(\"\\nProgram terminated by the user.\")\n",
        "    except Exception as e:\n",
        "        print(f\"An error occurred: {e}\")\n"
      ],
      "metadata": {
        "colab": {
          "base_uri": "https://localhost:8080/"
        },
        "id": "wfQqtpkMiWbd",
        "outputId": "aa1c7f99-19a1-4b1b-e307-ce5cf930196d"
      },
      "execution_count": 11,
      "outputs": [
        {
          "output_type": "stream",
          "name": "stdout",
          "text": [
            "Input Matrix 1:\n",
            "Enter the number of rows: 2\n",
            "Enter the number of columns: 2\n",
            "Enter the element at position (1, 1): 1\n",
            "Enter the element at position (1, 2): 2\n",
            "Enter the element at position (2, 1): 1\n",
            "Enter the element at position (2, 2): 2\n",
            "\n",
            "Input Matrix 2:\n",
            "Enter the number of rows: 2\n",
            "Enter the number of columns: 2\n",
            "Enter the element at position (1, 1): 1\n",
            "Enter the element at position (1, 2): 3\n",
            "Enter the element at position (2, 1): 4\n",
            "Enter the element at position (2, 2): 1\n",
            "Addition Result Matrix:\n",
            "[2.0, 5.0]\n",
            "[5.0, 3.0]\n",
            "\n",
            "\n",
            "Subtraction Result Matrix:\n",
            "[0.0, -1.0]\n",
            "[-3.0, 1.0]\n"
          ]
        }
      ]
    },
    {
      "cell_type": "code",
      "source": [
        "def elucliden_gcd(a,b):\n",
        "\n",
        "  while b :\n",
        "    a,b = b , a % b\n",
        "\n",
        "  return a\n",
        "\n",
        "\n",
        "if __name__ == \"__main__\" :\n",
        "\n",
        "\n",
        "  try :\n",
        "\n",
        "    num1 = int(input(\"Enter the first number : \"))\n",
        "    num2 = int(input(\"Enter the second number : \"))\n",
        "\n",
        "    gcd = elucliden_gcd(num1,num2)\n",
        "\n",
        "    print(f\"The greatest common divisor of {num1} and {num2} is : {gcd}\")\n",
        "\n",
        "\n",
        "  except ValueError :\n",
        "      print(\"Invalid input . Please enter the valid integers .\")\n",
        "\n",
        "  except KeyboardInterrupt :\n",
        "      print(\"Program is terminated by user .\")\n",
        "\n",
        "  except Exception as e :\n",
        "      print(f\"An error occurred : {e}\")\n",
        "\n",
        "\n"
      ],
      "metadata": {
        "colab": {
          "base_uri": "https://localhost:8080/"
        },
        "id": "EsbfTyWWdlDE",
        "outputId": "801762e9-affa-4a86-d8e3-e430fed8eba5"
      },
      "execution_count": 2,
      "outputs": [
        {
          "output_type": "stream",
          "name": "stdout",
          "text": [
            "Enter the first number : 12\n",
            "Enter the second number : 18\n",
            "The greatest common divisor of 12 and 18 is : 6\n"
          ]
        }
      ]
    },
    {
      "cell_type": "code",
      "source": [
        "def matrix_multiply(matrix1, matrix2):\n",
        "    if len(matrix1[0]) != len(matrix2):\n",
        "        raise ValueError(\"Number of columns in the first matrix must be equal to the number of rows in the second matrix.\")\n",
        "\n",
        "    result_matrix = [[0 for _ in range(len(matrix2[0]))] for _ in range(len(matrix1))]\n",
        "\n",
        "    for i in range(len(matrix1)):\n",
        "        for j in range(len(matrix2[0])):\n",
        "            for k in range(len(matrix2)):\n",
        "                result_matrix[i][j] += matrix1[i][k] * matrix2[k][j]\n",
        "\n",
        "    return result_matrix\n",
        "\n",
        "def input_matrix():\n",
        "    rows = int(input(\"Enter the number of rows in the matrix: \"))\n",
        "    cols = int(input(\"Enter the number of columns in the matrix: \"))\n",
        "    matrix = []\n",
        "\n",
        "    for i in range(rows):\n",
        "        row = [float(input(f\"Enter the position of the element {i+1}, {j+1}: \")) for j in range(cols)]\n",
        "        matrix.append(row)\n",
        "\n",
        "    return matrix\n",
        "\n",
        "def display_matrix(matrix, label):\n",
        "    print(f\"{label} Matrix:\")\n",
        "    for row in matrix:\n",
        "        print(row)\n",
        "\n",
        "if __name__ == \"__main__\":\n",
        "    try:\n",
        "        print(\"Input Matrix 1:\")\n",
        "        matrix1 = input_matrix()\n",
        "\n",
        "        print(\"\\nInput Matrix 2:\")\n",
        "        matrix2 = input_matrix()\n",
        "\n",
        "        result_matrix = matrix_multiply(matrix1, matrix2)\n",
        "\n",
        "        display_matrix(result_matrix, \"Multiplication Matrix\")\n",
        "\n",
        "    except ValueError as ve:\n",
        "        print(f\"Error: {ve}\")\n",
        "\n",
        "    except KeyboardInterrupt:\n",
        "        print(\"Program terminated by the user\")\n",
        "\n",
        "    except Exception as e:\n",
        "        print(f\"An error occurred: {e}\")\n"
      ],
      "metadata": {
        "colab": {
          "base_uri": "https://localhost:8080/"
        },
        "id": "L7CTbZKemOw-",
        "outputId": "51ded1a5-ea73-4316-cf60-625a1306f791"
      },
      "execution_count": 8,
      "outputs": [
        {
          "output_type": "stream",
          "name": "stdout",
          "text": [
            "Input Matrix 1:\n",
            "Enter the number of rows in the matrix: 2\n",
            "Enter the number of columns in the matrix: 2\n",
            "Enter the position of the element 1, 1: 1\n",
            "Enter the position of the element 1, 2: 2\n",
            "Enter the position of the element 2, 1: 3\n",
            "Enter the position of the element 2, 2: 4\n",
            "\n",
            "Input Matrix 2:\n",
            "Enter the number of rows in the matrix: 2\n",
            "Enter the number of columns in the matrix: 2\n",
            "Enter the position of the element 1, 1: 4\n",
            "Enter the position of the element 1, 2: 3\n",
            "Enter the position of the element 2, 1: 2\n",
            "Enter the position of the element 2, 2: 1\n",
            "Multiplication Matrix Matrix:\n",
            "[8.0, 5.0]\n",
            "[20.0, 13.0]\n"
          ]
        }
      ]
    },
    {
      "cell_type": "code",
      "source": [
        "import random\n",
        "\n",
        "def print_board(board):\n",
        "\n",
        "  for row in board:\n",
        "    print(\" | \".join(row))\n",
        "    print(\"-\" * 9)\n",
        "\n",
        "\n",
        "def is_winner(board,player):\n",
        "\n",
        "  for row in board :\n",
        "    if all(cell == player for cell in row):\n",
        "      return True\n",
        "\n",
        "  for col in range(3):\n",
        "    if all(board[row][col] == player for row in range(3)):\n",
        "      return True\n",
        "\n",
        "  if all(board[i][i] == player for i in range(3)) or all(board[i][2 - i] == player for i in range(3)):\n",
        "    return True\n",
        "\n",
        "  return False\n",
        "\n",
        "\n",
        "def is_board_full(board):\n",
        "  return all(cell != \" \" for row in board for cell in row)\n",
        "\n",
        "\n",
        "def get_empty_cells(board):\n",
        "  return [(row , col) for row in range(3) for col in range(3) if board[row][col] == \" \"]\n",
        "\n",
        "\n",
        "def player_move(board):\n",
        "\n",
        "  while True :\n",
        "\n",
        "    try:\n",
        "\n",
        "      row = int(input(\"Enter the row (1,2,or 3) : \")) - 1\n",
        "      col = int(input(\"Enter the column (1,2,or 3) : \")) - 1\n",
        "\n",
        "      if 0 <= row < 3 and 0 <= col < 3 and board[row][col] == \" \":\n",
        "        return row , col\n",
        "\n",
        "      else :\n",
        "        print(\"Invalid move . Please try again\")\n",
        "\n",
        "\n",
        "    except ValueError :\n",
        "      print(\"Invalid input . please enter a number . \")\n",
        "\n",
        "\n",
        "def computer_move(board):\n",
        "\n",
        "  empty_cells = get_empty_cells(board)\n",
        "  return random.choice(empty_cells)\n",
        "\n",
        "\n",
        "def main():\n",
        "\n",
        "    board = [[\" \" for _ in range(3)] for _ in range(3)]\n",
        "\n",
        "    player_symbol = \"X\"\n",
        "    computer_symbol = \"O\"\n",
        "\n",
        "    print(\"Welcome to Tic-Tac-Toe!\\n\")\n",
        "    print_board(board)\n",
        "\n",
        "    for _ in range(9):\n",
        "\n",
        "        print(\"\\nYour turn (X):\")\n",
        "\n",
        "        player_row, player_col = player_move(board)\n",
        "        board[player_row][player_col] = player_symbol\n",
        "\n",
        "        print_board(board)\n",
        "\n",
        "        if is_winner(board, player_symbol):\n",
        "\n",
        "            print(\"Congratulations! You win!\")\n",
        "            break\n",
        "\n",
        "        if is_board_full(board):\n",
        "\n",
        "            print(\"It's a tie!\")\n",
        "            break\n",
        "\n",
        "        print(\"\\nComputer's turn (O):\")\n",
        "\n",
        "        computer_row, computer_col = computer_move(board)\n",
        "        board[computer_row][computer_col] = computer_symbol\n",
        "\n",
        "        print_board(board)\n",
        "\n",
        "        if is_winner(board, computer_symbol):\n",
        "\n",
        "            print(\"Computer wins! Better luck next time.\")\n",
        "            break\n",
        "\n",
        "        if is_board_full(board):\n",
        "\n",
        "            print(\"It's a tie!\")\n",
        "            break\n",
        "\n",
        "if __name__ == \"__main__\":\n",
        "    main()"
      ],
      "metadata": {
        "colab": {
          "base_uri": "https://localhost:8080/"
        },
        "id": "Pva0eIFWlk9B",
        "outputId": "626010a6-74c9-4fcb-d8ee-e0ebf2570b76"
      },
      "execution_count": 2,
      "outputs": [
        {
          "output_type": "stream",
          "name": "stdout",
          "text": [
            "Welcome to Tic-Tac-Toe!\n",
            "\n",
            "  |   |  \n",
            "---------\n",
            "  |   |  \n",
            "---------\n",
            "  |   |  \n",
            "---------\n",
            "\n",
            "Your turn (X):\n",
            "Enter the row (1,2,or 3) : 2\n",
            "Enter the column (1,2,or 3) : 2\n",
            "  |   |  \n",
            "---------\n",
            "  | X |  \n",
            "---------\n",
            "  |   |  \n",
            "---------\n",
            "\n",
            "Computer's turn (O):\n",
            "  |   |  \n",
            "---------\n",
            "  | X |  \n",
            "---------\n",
            "  | O |  \n",
            "---------\n",
            "\n",
            "Your turn (X):\n",
            "Enter the row (1,2,or 3) : 3\n",
            "Enter the column (1,2,or 3) : 3\n",
            "  |   |  \n",
            "---------\n",
            "  | X |  \n",
            "---------\n",
            "  | O | X\n",
            "---------\n",
            "\n",
            "Computer's turn (O):\n",
            "  |   | O\n",
            "---------\n",
            "  | X |  \n",
            "---------\n",
            "  | O | X\n",
            "---------\n",
            "\n",
            "Your turn (X):\n",
            "Enter the row (1,2,or 3) : 1\n",
            "Enter the column (1,2,or 3) : 1\n",
            "X |   | O\n",
            "---------\n",
            "  | X |  \n",
            "---------\n",
            "  | O | X\n",
            "---------\n",
            "Congratulations! You win!\n"
          ]
        }
      ]
    },
    {
      "cell_type": "code",
      "source": [
        "def fibo(n):\n",
        "\n",
        "  first,second = 0,1\n",
        "  fibo_series = []\n",
        "\n",
        "  print(f\"Fibonacci series upto {n} \" , end=\" \")\n",
        "\n",
        "  for _ in range(n):\n",
        "\n",
        "    fibo_series.append(first)\n",
        "    first , second = second , first + second\n",
        "\n",
        "  print(fibo_series)\n",
        "\n",
        "\n",
        "if __name__ == \"__main__\" :\n",
        "\n",
        "  try :\n",
        "\n",
        "    num = int(input(\"Enter the number of terms for fibonacci numbers : \"))\n",
        "    fibo(num)\n",
        "\n",
        "  except ValueError :\n",
        "    print(\"Invalid input . Please enter the valid number .\")"
      ],
      "metadata": {
        "colab": {
          "base_uri": "https://localhost:8080/"
        },
        "id": "N8ZA96jxlLGm",
        "outputId": "a6565b49-7ad5-408d-95a6-4b397676b045"
      },
      "execution_count": 2,
      "outputs": [
        {
          "output_type": "stream",
          "name": "stdout",
          "text": [
            "Enter the number of terms for fibonacci numbers : 7\n",
            "Fibonacci series upto 7  [0, 1, 1, 2, 3, 5, 8]\n"
          ]
        }
      ]
    },
    {
      "cell_type": "code",
      "source": [
        "def fibo_memo(n , memo={}):\n",
        "\n",
        "  if n == 0 or n == 1 :\n",
        "    return 1\n",
        "\n",
        "  if n in memo:\n",
        "    return memo[n]\n",
        "\n",
        "  result = fibo_memo(n-1,memo) + fibo_memo(n-2,memo)\n",
        "\n",
        "  memo[n] = result\n",
        "\n",
        "  return result\n",
        "\n",
        "\n",
        "if __name__ == \"__main__\":\n",
        "\n",
        "  try :\n",
        "\n",
        "    num = int(input(\"Enter the value of n for the fibonacci sequence : \"))\n",
        "\n",
        "    if num < 0 :\n",
        "      print(\"Invalid input . Please enter a positive number . \")\n",
        "\n",
        "    else :\n",
        "\n",
        "      result = fibo_memo(num)\n",
        "      print(f\"The {num}th term of fibonacci sequence is : {result}\")\n",
        "\n",
        "\n",
        "  except ValueError :\n",
        "    print(\"Invalid input .Please enter the valid integer . \")\n"
      ],
      "metadata": {
        "colab": {
          "base_uri": "https://localhost:8080/"
        },
        "id": "F2cZhATOl2Wm",
        "outputId": "36bfd1fe-f13d-4e4d-cea1-9dfccfc898f8"
      },
      "execution_count": 8,
      "outputs": [
        {
          "output_type": "stream",
          "name": "stdout",
          "text": [
            "Enter the value of n for the fibonacci sequence : 1\n",
            "The 1th term of fibonacci sequence is : 1\n"
          ]
        }
      ]
    },
    {
      "cell_type": "code",
      "source": [
        "import calendar\n",
        "\n",
        "def gen_calendar(year,month):\n",
        "\n",
        "  first_day , num_days = calendar.monthrange(year,month)\n",
        "\n",
        "  print(f\"Calendar for {calendar.month_name[month]} {year}\")\n",
        "\n",
        "  print(\"Mon Tue Wed Thu Fri Sat Sun\")\n",
        "\n",
        "  print(\"  \" * first_day , end=\"\")\n",
        "\n",
        "  for day in range(1, num_days + 1):\n",
        "\n",
        "    print(f\"{day:2} \",end=\" \")\n",
        "\n",
        "    if(day + first_day) % 7 == 0 or day == num_days :\n",
        "      print()\n",
        "\n",
        "\n",
        "if __name__ == \"__main__\":\n",
        "\n",
        "  try:\n",
        "\n",
        "    year = int(input(\"Enter the year : \"))\n",
        "    month = int(input(\"Enter the month : \"))\n",
        "\n",
        "    if 1 <= month <= 12:\n",
        "      gen_calendar(year,month)\n",
        "\n",
        "    else :\n",
        "      print(\"Please enter the valid month between 1 and 12 . \")\n",
        "\n",
        "  except ValueError :\n",
        "    print(\"Invalid input . Please enter the valid integer . \")\n"
      ],
      "metadata": {
        "colab": {
          "base_uri": "https://localhost:8080/"
        },
        "id": "GHc-2d9I0Vy8",
        "outputId": "5c07596b-619c-4c1a-8c0b-723518c7cb05"
      },
      "execution_count": 11,
      "outputs": [
        {
          "output_type": "stream",
          "name": "stdout",
          "text": [
            "Enter the year : 2003\n",
            "Enter the month : 6\n",
            "Calendar for June 2003\n",
            "Mon Tue Wed Thu Fri Sat Sun\n",
            "             1  \n",
            " 2   3   4   5   6   7   8  \n",
            " 9  10  11  12  13  14  15  \n",
            "16  17  18  19  20  21  22  \n",
            "23  24  25  26  27  28  29  \n",
            "30  \n"
          ]
        }
      ]
    },
    {
      "cell_type": "code",
      "source": [
        "import random\n",
        "\n",
        "def deal_card():\n",
        "\n",
        "  cards = [10,10,11,2,3,4,5,6,7,8,9,10,10]\n",
        "  return random.choice(cards)\n",
        "\n",
        "\n",
        "def calculate_score(cards):\n",
        "\n",
        "  if sum(cards) == 21 and len(cards) == 2 :\n",
        "    return 0\n",
        "\n",
        "  if 11 in cards and sum(cards) > 21 :\n",
        "    cards.remove(11)\n",
        "    cards.append(1)\n",
        "\n",
        "  return sum(cards)\n",
        "\n",
        "\n",
        "def compare(user_score,computer_score):\n",
        "\n",
        "  if user_score == computer_score:\n",
        "    return \"It's a Draw !\"\n",
        "\n",
        "  elif computer_score == 0:\n",
        "    return \"Computer have a Blackjack . You lose !\"\n",
        "\n",
        "  elif user_score == 0 :\n",
        "    return \"You have Blackjack . You Win !\"\n",
        "\n",
        "  elif user_score > 21 :\n",
        "    return \"You went over . Computer wins !\"\n",
        "\n",
        "  elif computer_score > 21 :\n",
        "    return \"Computer went over . You win ! \"\n",
        "\n",
        "  elif user_score > computer_score :\n",
        "    return \"You win ! \"\n",
        "\n",
        "  else :\n",
        "    return \"Computer wins ! \"\n",
        "\n",
        "\n",
        "def play_game():\n",
        "\n",
        "  print(\"Welcome to Blackjack !\")\n",
        "\n",
        "  user_cards = [ deal_card() , deal_card()]\n",
        "  computer_cards = [ deal_card() , deal_card()]\n",
        "\n",
        "  game_over = False\n",
        "\n",
        "  while not game_over :\n",
        "\n",
        "    user_score = calculate_score(user_cards)\n",
        "    computer_score = calculate_score(computer_cards)\n",
        "\n",
        "    print(f\"Your Cards : {user_cards}  Current_score : {user_score}\")\n",
        "    print(f\"Computer's first card : {computer_cards[0]}\")\n",
        "\n",
        "    if user_score == 0 or computer_score == 0 or user_score > 21 :\n",
        "      game_over = True\n",
        "\n",
        "    else :\n",
        "\n",
        "      user_should_deal = input(\"Type 'y' to another card , 'n' to pass : \").lower()\n",
        "\n",
        "      if user_should_deal == \"y\" :\n",
        "        user_cards.append(deal_card())\n",
        "\n",
        "      else :\n",
        "        game_over = True\n",
        "\n",
        "  while computer_score != 0  and computer_score < 17 :\n",
        "\n",
        "    computer_cards.append(deal_card())\n",
        "    computer_score = calculate_score(computer_cards)\n",
        "\n",
        "  print(f\"Your Hand : {user_cards} , Final_score : {user_score}\")\n",
        "  print(f\"Computer's final hand : {computer_cards} Final score : {computer_score}\")\n",
        "\n",
        "  print(compare(user_score , computer_score))\n",
        "\n",
        "\n",
        "if __name__ == \"__main__\" :\n",
        "\n",
        "  play_game()\n"
      ],
      "metadata": {
        "colab": {
          "base_uri": "https://localhost:8080/"
        },
        "id": "pRI_QGwy5rfO",
        "outputId": "04522163-99e4-4808-d70e-b5be58486cd2"
      },
      "execution_count": 12,
      "outputs": [
        {
          "output_type": "stream",
          "name": "stdout",
          "text": [
            "Welcome to Blackjack !\n",
            "Your Cards : [11, 10]  Current_score : 0\n",
            "Computer's first card : 3\n",
            "Your Hand : [11, 10] , Final_score : 0\n",
            "Computer's final hand : [3, 8, 4, 3] Final score : 18\n",
            "You have Blackjack . You Win !\n"
          ]
        }
      ]
    },
    {
      "cell_type": "code",
      "source": [
        "def prime_factors(n):\n",
        "\n",
        "  factors = []\n",
        "  divisor = 2\n",
        "\n",
        "  while divisor <= n :\n",
        "\n",
        "    if n % divisor == 0 :\n",
        "      factors.append(divisor)\n",
        "      n = n // divisor\n",
        "\n",
        "    else :\n",
        "      divisor += 1\n",
        "\n",
        "  return factors\n",
        "\n",
        "\n",
        "if __name__ == \"__main__\" :\n",
        "\n",
        "  try :\n",
        "\n",
        "    num = int(input(\"Enter the postive number : \"))\n",
        "\n",
        "    if num <= 0 :\n",
        "      print(\"Please enter a positive integer\")\n",
        "\n",
        "    else :\n",
        "\n",
        "      result = prime_factors(num)\n",
        "      print(f\"The prime factors of {num} are : {result}\")\n",
        "\n",
        "  except ValueError :\n",
        "    print(\"Invalid input . Please enter the valid integer . \")\n"
      ],
      "metadata": {
        "colab": {
          "base_uri": "https://localhost:8080/"
        },
        "id": "6wNZAQPhBORo",
        "outputId": "404fca6e-01c6-4f1d-99e1-6ef93c2ceb1d"
      },
      "execution_count": 14,
      "outputs": [
        {
          "output_type": "stream",
          "name": "stdout",
          "text": [
            "Enter the postive number : 46\n",
            "The prime factors of 46 are : [2, 23]\n"
          ]
        }
      ]
    }
  ]
}
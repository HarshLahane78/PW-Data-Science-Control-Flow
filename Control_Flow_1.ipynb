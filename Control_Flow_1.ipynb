{
  "nbformat": 4,
  "nbformat_minor": 0,
  "metadata": {
    "colab": {
      "provenance": []
    },
    "kernelspec": {
      "name": "python3",
      "display_name": "Python 3"
    },
    "language_info": {
      "name": "python"
    }
  },
  "cells": [
    {
      "cell_type": "markdown",
      "source": [
        "Control Flow Programs"
      ],
      "metadata": {
        "id": "yZU2EtxUEHIt"
      }
    },
    {
      "cell_type": "code",
      "execution_count": null,
      "metadata": {
        "colab": {
          "base_uri": "https://localhost:8080/"
        },
        "id": "QEZBE7UKEE_t",
        "outputId": "b76bbd94-d76f-4ce0-e150-3d4d8e6cc579"
      },
      "outputs": [
        {
          "output_type": "stream",
          "name": "stdout",
          "text": [
            "enter a number : 5\n",
            "the number is positive\n"
          ]
        }
      ],
      "source": [
        "num = int(input(\"enter a number : \"))\n",
        "\n",
        "if num < 0 :\n",
        "  print(\"the number is negative \")\n",
        "\n",
        "else :\n",
        "  print(\"the number is positive\")"
      ]
    },
    {
      "cell_type": "code",
      "source": [
        "age = int(input(\"enter the age : \"))\n",
        "\n",
        "if age >= 18 :\n",
        "  print(\" you are eligible to vote\")\n",
        "\n",
        "else:\n",
        "  print(\"you are not eligible to vote\")"
      ],
      "metadata": {
        "colab": {
          "base_uri": "https://localhost:8080/"
        },
        "id": "FH_oBjsyGlKu",
        "outputId": "de1f4f20-5494-4c6f-f88e-39988b36533c"
      },
      "execution_count": null,
      "outputs": [
        {
          "output_type": "stream",
          "name": "stdout",
          "text": [
            "enter the age : 25\n",
            " you are eligible to vote\n"
          ]
        }
      ]
    },
    {
      "cell_type": "code",
      "source": [
        "num1 = int(input(\"enter the first number : \"))\n",
        "num2 = int(input(\"enter the second number : \"))\n",
        "\n",
        "if num1 > num2 :\n",
        "  print(\"the maximum number : \",num1)\n",
        "\n",
        "else:\n",
        "  print(\"the maximum number : \",num2)"
      ],
      "metadata": {
        "colab": {
          "base_uri": "https://localhost:8080/"
        },
        "id": "a0SGGe89HCrH",
        "outputId": "44a8b1ee-60a4-4110-f3a4-1cd02e2a86be"
      },
      "execution_count": null,
      "outputs": [
        {
          "output_type": "stream",
          "name": "stdout",
          "text": [
            "enter the first number : 3\n",
            "enter the second number : 5\n",
            "the maximum number :  5\n"
          ]
        }
      ]
    },
    {
      "cell_type": "code",
      "source": [
        "def leap_y(year):\n",
        "\n",
        "  if (year % 4 == 0 and year % 100 != 0) or ( year % 400 == 0):\n",
        "    return True\n",
        "\n",
        "  else:\n",
        "    return False\n",
        "\n",
        "year = int(input(\"enter the year : \"))\n",
        "\n",
        "if leap_y(year):\n",
        "  print(f\"{year} is a leap year\")\n",
        "\n",
        "else:\n",
        "  print(f\"{year} is not a leap year\")"
      ],
      "metadata": {
        "colab": {
          "base_uri": "https://localhost:8080/"
        },
        "id": "-t_fqPfeHU09",
        "outputId": "1cacd177-7f23-4b79-89e0-8843340f4e26"
      },
      "execution_count": null,
      "outputs": [
        {
          "output_type": "stream",
          "name": "stdout",
          "text": [
            "enter the year : 2012\n",
            "2012 is a leap year\n"
          ]
        }
      ]
    },
    {
      "cell_type": "code",
      "source": [
        "char = input(\"enter the character : \")\n",
        "\n",
        "if char in \"aeiouAEIOU\":\n",
        "  print(\"the character is a vowel\")\n",
        "\n",
        "else:\n",
        "  print(\"the character is a consonant\")"
      ],
      "metadata": {
        "colab": {
          "base_uri": "https://localhost:8080/"
        },
        "id": "jBb099gcKord",
        "outputId": "f29d9628-464f-4229-88d0-a7d79e9a3a3f"
      },
      "execution_count": null,
      "outputs": [
        {
          "output_type": "stream",
          "name": "stdout",
          "text": [
            "enter the character : w\n",
            "the character is a consonant\n"
          ]
        }
      ]
    },
    {
      "cell_type": "code",
      "source": [
        "num = int(input(\"enter the number : \"))\n",
        "\n",
        "if num % 2 == 0 :\n",
        "  print(\"the number is even\")\n",
        "\n",
        "else :\n",
        "  print(\"the number is odd\")\n"
      ],
      "metadata": {
        "colab": {
          "base_uri": "https://localhost:8080/"
        },
        "id": "jOSseafeLnaT",
        "outputId": "e69636cc-073c-414b-9f81-86861001e4e2"
      },
      "execution_count": null,
      "outputs": [
        {
          "output_type": "stream",
          "name": "stdout",
          "text": [
            "enter the number : 13\n",
            "the number is odd\n"
          ]
        }
      ]
    },
    {
      "cell_type": "code",
      "source": [
        "def c_abs(number):\n",
        "\n",
        "  if number < 0 :\n",
        "    return -number\n",
        "\n",
        "  else:\n",
        "    return number\n",
        "\n",
        "num = float(input(\"enter the number : \"))\n",
        "\n",
        "result = c_abs(num)\n",
        "\n",
        "print(f\"the absolute value of {num} is : {result}\")\n"
      ],
      "metadata": {
        "colab": {
          "base_uri": "https://localhost:8080/"
        },
        "id": "nHV_1hXWMZcx",
        "outputId": "0a4083ed-c8fc-4af2-ea40-e53747fefaf4"
      },
      "execution_count": null,
      "outputs": [
        {
          "output_type": "stream",
          "name": "stdout",
          "text": [
            "enter the number : -12\n",
            "the absolute value of -12.0 is : 12.0\n"
          ]
        }
      ]
    },
    {
      "cell_type": "code",
      "source": [
        "num1 = int(input(\"enter the first number :\"))\n",
        "num2 = int(input(\"enter the second number :\"))\n",
        "num3 = int(input(\"enter the third number : \"))\n",
        "\n",
        "if num1 >= num2 and num1 >= num3 :\n",
        "  print(\"\\nthe largest number : \",num1)\n",
        "\n",
        "elif num2 >= num1 and num2 >= num3 :\n",
        "  print(\"\\nthe largest number : \",num2)\n",
        "\n",
        "else :\n",
        "  print(\"\\nthe largest number : \",num3)\n"
      ],
      "metadata": {
        "colab": {
          "base_uri": "https://localhost:8080/"
        },
        "id": "EqwY2kWyO6I1",
        "outputId": "9e24a1be-4256-4902-f18b-f2b8a0e5a217"
      },
      "execution_count": null,
      "outputs": [
        {
          "output_type": "stream",
          "name": "stdout",
          "text": [
            "enter the first number :12\n",
            "enter the second number :34\n",
            "enter the third number : 11\n",
            "\n",
            "the largest number :  34\n"
          ]
        }
      ]
    },
    {
      "cell_type": "code",
      "source": [
        "string1 = str(input(\"enter the string : \"))\n",
        "\n",
        "if string1 == string1[::-1]:\n",
        "  print(\"the string is palindrome\")\n",
        "\n",
        "else :\n",
        "  print(\"the string is not palindrome\")"
      ],
      "metadata": {
        "colab": {
          "base_uri": "https://localhost:8080/"
        },
        "id": "nupISeW9Qzot",
        "outputId": "563c9537-4f4c-490b-9fa0-e5cb4143ac18"
      },
      "execution_count": null,
      "outputs": [
        {
          "output_type": "stream",
          "name": "stdout",
          "text": [
            "enter the string : madam\n",
            "the string is palindrome\n"
          ]
        }
      ]
    },
    {
      "cell_type": "code",
      "source": [
        "score = int(input(\"enter the score : \"))\n",
        "\n",
        "if  90 <= score <= 100 :\n",
        "  print(\"Grade : A+\")\n",
        "\n",
        "elif 80 <= score <= 90 :\n",
        "  print(\"Grade : A\")\n",
        "\n",
        "elif 70 <= score <= 80 :\n",
        "  print(\"Grade : B\")\n",
        "\n",
        "elif 60 <= score <= 70 :\n",
        "  print(\"Grade : C\")\n",
        "\n",
        "elif score > 100 :\n",
        "  print(\"Invalid score\")\n",
        "\n",
        "else :\n",
        "  print(\"Grade : D\")"
      ],
      "metadata": {
        "colab": {
          "base_uri": "https://localhost:8080/"
        },
        "id": "S9GRZYocRNkj",
        "outputId": "80beb816-2017-41a4-e30e-3119e6a5d6a8"
      },
      "execution_count": null,
      "outputs": [
        {
          "output_type": "stream",
          "name": "stdout",
          "text": [
            "enter the score : 78\n",
            "Grade : B\n"
          ]
        }
      ]
    },
    {
      "cell_type": "code",
      "source": [
        "num1 = int(input(\"enter the first number :\"))\n",
        "num2 = int(input(\"enter the second number :\"))\n",
        "num3 = int(input(\"enter the third number : \"))\n",
        "\n",
        "if num1 >= num2 and num1 >= num3 :\n",
        "  print(\"\\nthe largest number : \",num1)\n",
        "\n",
        "elif num2 >= num1 and num2 >= num3 :\n",
        "  print(\"\\nthe largest number : \",num2)\n",
        "\n",
        "else :\n",
        "  print(\"\\nthe largest number : \",num3)"
      ],
      "metadata": {
        "colab": {
          "base_uri": "https://localhost:8080/"
        },
        "id": "bRn0_UwNSeZW",
        "outputId": "46fd043d-6542-410f-dff5-9e8d7940831b"
      },
      "execution_count": null,
      "outputs": [
        {
          "output_type": "stream",
          "name": "stdout",
          "text": [
            "enter the first number :34\n",
            "enter the second number :78\n",
            "enter the third number : 98\n",
            "\n",
            "the largest number :  98\n"
          ]
        }
      ]
    },
    {
      "cell_type": "code",
      "source": [
        "side1 = int(input(\"enter the length of side 1 : \"))\n",
        "side2 = int(input(\"enter the length of side 2 : \"))\n",
        "side3 = int(input(\"enter the length of side 3 : \"))\n",
        "\n",
        "if side1 == side2 == side3 :\n",
        "  print(\"the triangle is equilateral\")\n",
        "\n",
        "elif side1 == side2 or side2 == side3 or side3 == side1 :\n",
        "  print(\"the triangle is isosceles\")\n",
        "\n",
        "else :\n",
        "  print(\"the triangle is scalene\")\n",
        "\n"
      ],
      "metadata": {
        "colab": {
          "base_uri": "https://localhost:8080/"
        },
        "id": "cel7Yqo0UN9T",
        "outputId": "f817f2ee-a739-46b9-9901-d36894056be9"
      },
      "execution_count": null,
      "outputs": [
        {
          "output_type": "stream",
          "name": "stdout",
          "text": [
            "enter the length of side 1 : 34\n",
            "enter the length of side 2 : 56\n",
            "enter the length of side 3 : 34\n",
            "the triangle is isosceles\n"
          ]
        }
      ]
    },
    {
      "cell_type": "code",
      "source": [
        "def leap_y(year):\n",
        "\n",
        "  if (year % 4 == 0 and year % 100 != 0) or ( year % 400 == 0):\n",
        "    return True\n",
        "\n",
        "  else:\n",
        "    return False\n",
        "\n",
        "def cen_year(year):\n",
        "  if year % 100 == 0:\n",
        "    return True\n",
        "\n",
        "  else:\n",
        "    return False\n",
        "\n",
        "year = int(input(\"enter the year : \"))\n",
        "\n",
        "if leap_y(year):\n",
        "  print(f\"{year} is a leap year\")\n",
        "\n",
        "else:\n",
        "  print(f\"{year} is not a leap year\")\n",
        "\n",
        "\n",
        "\n",
        "if cen_year(year):\n",
        "  print(f\"{year} is a century year\")\n",
        "\n",
        "else:\n",
        "  print(f\"{year} is not a century year\")\n",
        "\n"
      ],
      "metadata": {
        "colab": {
          "base_uri": "https://localhost:8080/"
        },
        "id": "Ml0q1YUCV3tX",
        "outputId": "52b0a9ca-a711-47ed-96af-f12eaac76f3f"
      },
      "execution_count": null,
      "outputs": [
        {
          "output_type": "stream",
          "name": "stdout",
          "text": [
            "enter the year : 2016\n",
            "2016 is a leap year\n",
            "2016 is not a century year\n"
          ]
        }
      ]
    },
    {
      "cell_type": "code",
      "source": [
        "num = int(input(\"enter a number : \"))\n",
        "\n",
        "if num < 0 :\n",
        "  print(\"the number is negative \")\n",
        "\n",
        "elif num == 0:\n",
        "  print(\"the number is zero\")\n",
        "\n",
        "else:\n",
        "  print(\"the number is positive\")"
      ],
      "metadata": {
        "colab": {
          "base_uri": "https://localhost:8080/"
        },
        "id": "BvgpOcRyWhK6",
        "outputId": "d12db02c-b244-4765-9d3d-e30147569f40"
      },
      "execution_count": null,
      "outputs": [
        {
          "output_type": "stream",
          "name": "stdout",
          "text": [
            "enter a number : -4\n",
            "the number is negative \n"
          ]
        }
      ]
    },
    {
      "cell_type": "code",
      "source": [
        "teen = int(input(\"enter the age : \"))\n",
        "\n",
        "if 13 <= teen <= 19 :\n",
        "  print(\"the person is a teenager\")\n",
        "\n",
        "else:\n",
        "  print(\"the person is not a teenager\")"
      ],
      "metadata": {
        "colab": {
          "base_uri": "https://localhost:8080/"
        },
        "id": "XFyl9zyJXHE6",
        "outputId": "6145566a-bcda-4323-ca34-8371d7074500"
      },
      "execution_count": null,
      "outputs": [
        {
          "output_type": "stream",
          "name": "stdout",
          "text": [
            "enter the age : 15\n",
            "the person is a teenager\n"
          ]
        }
      ]
    },
    {
      "cell_type": "code",
      "source": [
        "angle = float(input(\"enter the angle : \"))\n",
        "\n",
        "if 0 < angle <= 90 :\n",
        "  print(\"It is a acute angle\")\n",
        "\n",
        "elif 90 < angle <= 180 :\n",
        "  print(\"It is an obtuse angle\")\n",
        "\n",
        "elif angle == 90 :\n",
        "  print(\"It is a right angle\")\n",
        "\n",
        "else:\n",
        "  print(\"Invalid angle\")"
      ],
      "metadata": {
        "colab": {
          "base_uri": "https://localhost:8080/"
        },
        "id": "WxSXLfQQXeYp",
        "outputId": "16883997-2f36-4498-d2e3-b35958cba3d3"
      },
      "execution_count": null,
      "outputs": [
        {
          "output_type": "stream",
          "name": "stdout",
          "text": [
            "enter the angle : 146.7\n",
            "It is an obtuse angle\n"
          ]
        }
      ]
    },
    {
      "cell_type": "code",
      "source": [
        "import math\n",
        "\n",
        "def root(a,b,c):\n",
        "\n",
        "  discriminant = b**2 - 4*a*c\n",
        "\n",
        "  if discriminant >= 0 :\n",
        "\n",
        "    root1 = ( -b - math.sqrt(discriminant)) / (2*a)\n",
        "    root2 = ( -b + math.sqrt(discriminant)) / (2*a)\n",
        "\n",
        "    return root1 , root2\n",
        "\n",
        "  else :\n",
        "\n",
        "    real_part = -b / (2*a)\n",
        "    img_part = math.sqrt(abs(discriminant)) / (2*a)\n",
        "\n",
        "    root1 = complex(real_part , img_part)\n",
        "    root2 = complex(real_part , -img_part)\n",
        "\n",
        "    return root1 , root2\n",
        "\n",
        "a = float(input(\"enter coefficient a : \"))\n",
        "b = float(input(\"enter coefficient b : \"))\n",
        "c = float(input(\"enter coefficient c : \"))\n",
        "\n",
        "roots = root(a,b,c)\n",
        "\n",
        "print(\"the roots of the quadratic equations are : \",roots)\n",
        "\n",
        "\n",
        "\n"
      ],
      "metadata": {
        "colab": {
          "base_uri": "https://localhost:8080/"
        },
        "id": "pVddHv8fZdVH",
        "outputId": "6413a059-6cd3-4c6b-a34f-48dcd2fea939"
      },
      "execution_count": null,
      "outputs": [
        {
          "output_type": "stream",
          "name": "stdout",
          "text": [
            "enter coefficient a : 3\n",
            "enter coefficient b : 12\n",
            "enter coefficient c : 16\n",
            "the roots of the quadratic equations are :  ((-2+1.1547005383792515j), (-2-1.1547005383792515j))\n"
          ]
        }
      ]
    },
    {
      "cell_type": "code",
      "source": [
        "num = int(input(\"enter the day : \"))\n",
        "\n",
        "if num == 1 :\n",
        "  print(\"Monday\")\n",
        "\n",
        "elif num == 2 :\n",
        "  print(\"Tuesday\")\n",
        "\n",
        "elif num == 3 :\n",
        "  print(\"Wednesday\")\n",
        "\n",
        "elif num == 4 :\n",
        "  print(\"Thursday\")\n",
        "\n",
        "elif num == 5 :\n",
        "  print(\"Friday\")\n",
        "\n",
        "elif num == 6 :\n",
        "  print(\"Saturday\")\n",
        "\n",
        "elif num == 7 :\n",
        "  print(\"Sunday\")\n",
        "\n",
        "else :\n",
        "  print(\"Invalid day\")"
      ],
      "metadata": {
        "colab": {
          "base_uri": "https://localhost:8080/"
        },
        "id": "KwqBKEpuezDI",
        "outputId": "7039ab92-ce84-4a0f-9d10-bbd945dd8363"
      },
      "execution_count": 1,
      "outputs": [
        {
          "output_type": "stream",
          "name": "stdout",
          "text": [
            "enter the day : 4\n",
            "Thursday\n"
          ]
        }
      ]
    },
    {
      "cell_type": "code",
      "source": [
        "def leap_year(year):\n",
        "    if (year % 4 == 0 and year % 400 == 0):\n",
        "        return True\n",
        "    else:\n",
        "        return False\n",
        "\n",
        "\n",
        "year = int(input(\"Enter a year: \"))\n",
        "\n",
        "# Check if the year is a leap year and evenly divisible by 400\n",
        "if leap_year(year):\n",
        "    print(f\"{year} is a leap year and evenly divisible by 400.\")\n",
        "else:\n",
        "    print(f\"{year} is not a leap year or not evenly divisible by 400.\")\n"
      ],
      "metadata": {
        "colab": {
          "base_uri": "https://localhost:8080/"
        },
        "id": "O7f7p6M8fwQ3",
        "outputId": "afc03efe-5256-42ca-c4c2-ed633ec46876"
      },
      "execution_count": null,
      "outputs": [
        {
          "output_type": "stream",
          "name": "stdout",
          "text": [
            "Enter a year: 1600\n",
            "1600 is a leap year and evenly divisible by 400.\n"
          ]
        }
      ]
    },
    {
      "cell_type": "code",
      "source": [
        "def prime(number):\n",
        "\n",
        "  if number < 2 :\n",
        "    return False\n",
        "\n",
        "  else :\n",
        "\n",
        "    for i in range(2, int(number ** 0.5) + 1):\n",
        "\n",
        "      if number % i == 0:\n",
        "        return False\n",
        "\n",
        "    return True\n",
        "\n",
        "num = int(input(\"enter the number : \"))\n",
        "\n",
        "if prime(num):\n",
        "  print(f\"{num} is a prime number\")\n",
        "\n",
        "else :\n",
        "  print(f\"{num} is not a prime number\")\n"
      ],
      "metadata": {
        "colab": {
          "base_uri": "https://localhost:8080/"
        },
        "id": "Sesvur9Yhr1L",
        "outputId": "d72dafb8-231b-4ce6-cf8e-9f91e19abf41"
      },
      "execution_count": null,
      "outputs": [
        {
          "output_type": "stream",
          "name": "stdout",
          "text": [
            "enter the number : 23\n",
            "23 is a prime number\n"
          ]
        }
      ]
    },
    {
      "cell_type": "code",
      "source": [
        "score = int(input(\"enter the score : \"))\n",
        "\n",
        "if  90 <= score <= 100 :\n",
        "  print(\"Grade : A+\")\n",
        "\n",
        "elif 80 <= score <= 90 :\n",
        "  print(\"Grade : A\")\n",
        "\n",
        "elif 70 <= score <= 80 :\n",
        "  print(\"Grade : B\")\n",
        "\n",
        "elif 60 <= score <= 70 :\n",
        "  print(\"Grade : C\")\n",
        "\n",
        "elif score > 100 :\n",
        "  print(\"Invalid score\")\n",
        "\n",
        "else :\n",
        "  print(\"Grade : D\")"
      ],
      "metadata": {
        "colab": {
          "base_uri": "https://localhost:8080/"
        },
        "id": "7SHXxzFemRMB",
        "outputId": "ca74868a-7ca7-4b28-fec4-6425ec5c544d"
      },
      "execution_count": null,
      "outputs": [
        {
          "output_type": "stream",
          "name": "stdout",
          "text": [
            "enter the score : 56\n",
            "Grade : D\n"
          ]
        }
      ]
    },
    {
      "cell_type": "code",
      "source": [
        "angle = float(input(\"enter the angle : \"))\n",
        "\n",
        "if 0 < angle <= 90 :\n",
        "  print(\"It is a acute angle\")\n",
        "\n",
        "elif 90 < angle <= 180 :\n",
        "  print(\"It is an obtuse angle\")\n",
        "\n",
        "elif angle == 90 :\n",
        "  print(\"It is a right angle\")\n",
        "\n",
        "else:\n",
        "  print(\"Invalid angle\")"
      ],
      "metadata": {
        "colab": {
          "base_uri": "https://localhost:8080/"
        },
        "id": "2f6d3TsrmcS6",
        "outputId": "89c01ecb-0ff5-46a7-8454-5f579649f65e"
      },
      "execution_count": null,
      "outputs": [
        {
          "output_type": "stream",
          "name": "stdout",
          "text": [
            "enter the angle : 32\n",
            "It is a acute angle\n"
          ]
        }
      ]
    },
    {
      "cell_type": "code",
      "source": [
        "#height in meter\n",
        "height = float(input(\"enter the height : \"))\n",
        "weight = float(input(\"enter the weight : \"))\n",
        "\n",
        "bmi = weight / (height ** 2)\n",
        "\n",
        "if bmi < 18.5 :\n",
        "  print(\"Under weight\")\n",
        "\n",
        "elif 18.5 < bmi <= 24.9 :\n",
        "  print(\"normal weight\")\n",
        "\n",
        "elif 25 <= bmi <= 29.9 :\n",
        "  print(\"over weight\")\n",
        "\n",
        "else:\n",
        "  print(\"Obese\")"
      ],
      "metadata": {
        "colab": {
          "base_uri": "https://localhost:8080/"
        },
        "id": "KXMtgSwFm9wi",
        "outputId": "b89e078b-cdc8-4067-93e1-ee035bed8fa0"
      },
      "execution_count": null,
      "outputs": [
        {
          "output_type": "stream",
          "name": "stdout",
          "text": [
            "enter the height : 2\n",
            "enter the weight : 100\n",
            "over weight\n"
          ]
        }
      ]
    },
    {
      "cell_type": "code",
      "source": [
        "num = int(input(\"enter a number : \"))\n",
        "\n",
        "if num < 0 :\n",
        "  print(\"the number is negative \")\n",
        "\n",
        "elif num == 0:\n",
        "  print(\"the number is zero\")\n",
        "\n",
        "else:\n",
        "  print(\"the number is positive\")"
      ],
      "metadata": {
        "colab": {
          "base_uri": "https://localhost:8080/"
        },
        "id": "F-bZIJ1SodOw",
        "outputId": "ff2faa0f-f644-489c-e126-9dae9316b27f"
      },
      "execution_count": null,
      "outputs": [
        {
          "output_type": "stream",
          "name": "stdout",
          "text": [
            "enter a number : 9\n",
            "the number is positive\n"
          ]
        }
      ]
    },
    {
      "cell_type": "code",
      "source": [
        "def char_type(char):\n",
        "\n",
        "  if char.isalpha():\n",
        "\n",
        "    if char.isupper():\n",
        "      return \"UpperCase\"\n",
        "\n",
        "    elif char.islower():\n",
        "      return \"LowerCase\"\n",
        "\n",
        "  elif char.isdigit():\n",
        "    return \"Digit\"\n",
        "\n",
        "  else:\n",
        "    return \"Special Character\"\n",
        "\n",
        "char = input(\"enter the character : \")\n",
        "\n",
        "ct = char_type(char)\n",
        "\n",
        "print(f\"{char} is : {ct}\")"
      ],
      "metadata": {
        "colab": {
          "base_uri": "https://localhost:8080/"
        },
        "id": "C4VmuIDkqNPw",
        "outputId": "3ff66418-e2c4-40d4-cdff-935dc467e6f7"
      },
      "execution_count": null,
      "outputs": [
        {
          "output_type": "stream",
          "name": "stdout",
          "text": [
            "enter the character : !\n",
            "! is : Special Character\n"
          ]
        }
      ]
    },
    {
      "cell_type": "code",
      "source": [
        "def calci_price(org_prize , pur_amount):\n",
        "\n",
        "  if pur_amount >= 1000:\n",
        "    discount = 10\n",
        "\n",
        "  elif pur_amount >= 500:\n",
        "    discount = 5\n",
        "\n",
        "  elif pur_amount >= 200:\n",
        "    discount = 3\n",
        "\n",
        "  else:\n",
        "    discount = 0\n",
        "\n",
        "  discount_amount = (discount / 100) * org_prize\n",
        "\n",
        "  discounted_prize = org_prize - discount_amount\n",
        "\n",
        "  return discounted_prize\n",
        "\n",
        "org_a = float(input(\"enter the original price : \"))\n",
        "\n",
        "pur_a = float(input(\"enter the purchase price : \"))\n",
        "\n",
        "final_p = calci_price(org_a , pur_a)\n",
        "\n",
        "print(\"the discounted amount is : \",final_p)"
      ],
      "metadata": {
        "colab": {
          "base_uri": "https://localhost:8080/"
        },
        "id": "5m5Zdv5HzF_j",
        "outputId": "040abf05-15d6-4ade-e8b8-03b27eb56e38"
      },
      "execution_count": null,
      "outputs": [
        {
          "output_type": "stream",
          "name": "stdout",
          "text": [
            "enter the original price : 12000\n",
            "enter the purchase price : 10000\n",
            "the discounted amount is :  10800.0\n"
          ]
        }
      ]
    },
    {
      "cell_type": "code",
      "source": [
        "def elec_bill(units):\n",
        "\n",
        "  if units <= 50:\n",
        "    rate_p_u = 2.5\n",
        "\n",
        "  elif units <= 100:\n",
        "    rate_p_u = 5.0\n",
        "\n",
        "  elif units <= 200:\n",
        "    rate_p_u = 7.5\n",
        "\n",
        "  elif units <= 300:\n",
        "    rate_p_u = 10.0\n",
        "\n",
        "  else:\n",
        "    rate_p_u = 12.5\n",
        "\n",
        "  total_bill = units * rate_p_u\n",
        "\n",
        "  return total_bill\n",
        "\n",
        "units = float(input(\"enter the units : \"))\n",
        "\n",
        "bill = elec_bill(units)\n",
        "\n",
        "print(\"the total electricity bill  is : \",bill)\n"
      ],
      "metadata": {
        "colab": {
          "base_uri": "https://localhost:8080/"
        },
        "id": "eLQgkzwL2Owb",
        "outputId": "1cfd442a-898a-467e-e9dd-0e36058b9151"
      },
      "execution_count": null,
      "outputs": [
        {
          "output_type": "stream",
          "name": "stdout",
          "text": [
            "enter the units : 231\n",
            "the total electricity bill  is :  2310.0\n"
          ]
        }
      ]
    },
    {
      "cell_type": "code",
      "source": [
        "def quad_type( angle1 , angle2 , angle3 , angle4 , side1 , side2 , side3 , side4 ):\n",
        "\n",
        "  if angle1 + angle2 + angle3 + angle4 == 360:\n",
        "\n",
        "    if side1 == side2 == side3 == side4 :\n",
        "      return \"Square\"\n",
        "\n",
        "    elif angle1 == angle2 == angle3 == angle4 :\n",
        "\n",
        "      if side1 == side3 and side2 == side4:\n",
        "        return \"Rectangle\"\n",
        "\n",
        "      else:\n",
        "        return \"Rhombus\"\n",
        "\n",
        "    elif side1 == side2 == side3 == side4 :\n",
        "      return \"parallelogram\"\n",
        "\n",
        "    else:\n",
        "      return \"Quadrilateral\"\n",
        "\n",
        "  else:\n",
        "    return \"Invalid Quadrilateral\"\n",
        "\n",
        "angle1 = float(input(\"enter the angle 1 : \"))\n",
        "angle2 = float(input(\"enter the angle 2 : \"))\n",
        "angle3 = float(input(\"enter the angle 3 : \"))\n",
        "angle4 = float(input(\"enter the angle 4 : \"))\n",
        "\n",
        "side1 = float(input(\"\\nenter the side 1 : \"))\n",
        "side2 = float(input(\"enter the side 2 : \"))\n",
        "side3 = float(input(\"enter the side 3 : \"))\n",
        "side4 = float(input(\"enter the side 4 : \"))\n",
        "\n",
        "q_type = quad_type(angle1,angle2,angle3,angle4,side1,side2,side3,side4)\n",
        "\n",
        "print(\"\\nthe type of a quadrilateral is : \",q_type)"
      ],
      "metadata": {
        "colab": {
          "base_uri": "https://localhost:8080/"
        },
        "id": "uLdlDrIM3pWw",
        "outputId": "0d16a0c6-9e7d-455d-f962-7c447d7daafd"
      },
      "execution_count": null,
      "outputs": [
        {
          "output_type": "stream",
          "name": "stdout",
          "text": [
            "enter the angle 1 : 90\n",
            "enter the angle 2 : 90\n",
            "enter the angle 3 : 90\n",
            "enter the angle 4 : 90\n",
            "\n",
            "enter the side 1 : 12\n",
            "enter the side 2 : 34\n",
            "enter the side 3 : 12\n",
            "enter the side 4 : 34\n",
            "\n",
            "the type of a quadrilateral is :  Rectangle\n"
          ]
        }
      ]
    },
    {
      "cell_type": "code",
      "source": [
        "def season(month):\n",
        "\n",
        "  if month.lower() in [\"june\" , \"july\" ,\"august\",\"september\"]:\n",
        "    return \"Monsoon\"\n",
        "\n",
        "  elif month.lower() in [ \"october\", \"november\" ,\"december\", \"january\"]:\n",
        "    return \"Winter\"\n",
        "\n",
        "  elif month.lower() in [\"february\" , \"march\" , \"april\" , \"may\"]:\n",
        "    return \"Summer\"\n",
        "\n",
        "  else:\n",
        "    return \"Invalid Month\"\n",
        "\n",
        "month = input(\"enter the month : \")\n",
        "\n",
        "sm = season(month)\n",
        "\n",
        "print(f\"the season in the {month} is : {sm}\")\n",
        "\n"
      ],
      "metadata": {
        "colab": {
          "base_uri": "https://localhost:8080/"
        },
        "id": "p1pyMr8z67DU",
        "outputId": "7d23219d-ec69-4dc4-c358-cca7242045f3"
      },
      "execution_count": null,
      "outputs": [
        {
          "output_type": "stream",
          "name": "stdout",
          "text": [
            "enter the month : march\n",
            "the season in the march is : Summer\n"
          ]
        }
      ]
    },
    {
      "cell_type": "code",
      "source": [
        "def leap_year(year):\n",
        "    if (year % 4 == 0 and year % 100 != 0) or (year % 400 == 0):\n",
        "        return True\n",
        "    else:\n",
        "        return False\n",
        "\n",
        "def d_month(month, year):\n",
        "    if month.lower() in [\"january\", \"march\", \"may\", \"july\", \"august\", \"october\", \"december\"]:\n",
        "        return 31\n",
        "    elif month.lower() in [\"april\", \"june\", \"september\", \"november\"]:\n",
        "        return 30\n",
        "    elif month.lower() == \"february\":\n",
        "        if leap_year(year):\n",
        "            return 29\n",
        "        else:\n",
        "            return 28\n",
        "    else:\n",
        "        return \"Invalid Month\"\n",
        "\n",
        "\n",
        "year = int(input(\"Enter a year: \"))\n",
        "month = input(\"Enter a month: \")\n",
        "\n",
        "result1 = \"Leap\" if leap_year(year) else \"Common\"\n",
        "result2 = d_month(month, year)\n",
        "\n",
        "print(f\"\\nThe year {year} is a {result1} year.\")\n",
        "print(f\"The month of {month.capitalize()} has {result2} days.\")\n"
      ],
      "metadata": {
        "colab": {
          "base_uri": "https://localhost:8080/"
        },
        "id": "q6PXligb9Fai",
        "outputId": "cdb058d9-d022-4bc4-f746-3f5c3220ff08"
      },
      "execution_count": null,
      "outputs": [
        {
          "output_type": "stream",
          "name": "stdout",
          "text": [
            "Enter a year: 2028\n",
            "Enter a month: may\n",
            "\n",
            "The year 2028 is a Leap year.\n",
            "The month of May has 31 days.\n"
          ]
        }
      ]
    }
  ]
}